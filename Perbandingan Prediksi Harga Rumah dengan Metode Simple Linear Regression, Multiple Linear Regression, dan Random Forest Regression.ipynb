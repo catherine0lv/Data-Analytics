{
 "cells": [
  {
   "cell_type": "markdown",
   "id": "da467d0d",
   "metadata": {},
   "source": [
    "## <div align=\"center\"> PROJECT IS388 Data Analysis </div>\n",
    "## <div align=\"center\"> Group 3 - Class G </div>\n",
    "#### <div align=\"center\"> Semester Ganjil 2023/2024 </div>\n",
    "---"
   ]
  },
  {
   "cell_type": "markdown",
   "id": "60dace13",
   "metadata": {},
   "source": [
    "Group 3\n",
    "1. 00000075386 - Alessandra Valentina\n",
    "2. 00000076229 - Catherine Olivia\n",
    "3. 00000077730 - Sabrina Nurul Azmi\n",
    "4. 00000077121 - Tsabitah Ramadhani Mashur\n",
    "5. 00000078331 - Zevanaya Beverly Drew"
   ]
  },
  {
   "cell_type": "markdown",
   "id": "247cf3e5",
   "metadata": {},
   "source": [
    "---"
   ]
  },
  {
   "cell_type": "markdown",
   "id": "3216bf66",
   "metadata": {},
   "source": [
    "#### Explain About Dataset\n",
    "Dataset yang kami gunakan merupakan dataset Housing Price Dataset dalam  format csv. Dataset ini memiliki data dengan 6 kolom dan 50.000 baris. Kolom pertama, SquareFeet merupakan kolom yang menunjukkan data dari luas rumah dalam satuan kaki persegi. Kedua, Bedrooms menunjukkan data dari jumlah kamar setiap rumah. Ketiga, Bathrooms menunjukkan data dari jumlah kamar mandi setiap rumah. Keempat, Neighborhood menunjukkan data dari daerah tempat rumah tersebut, yang dapat dibagi menjadi tiga, yaitu Rural, Suburb, dan Urban. Kelima, YearBuilt, tahun dibangunnya rumah. Keenam, Price, harga rumah. Berdasarkan 6 kolom tersebut, 5 kolom merupakan kolom numerik dan 1 kolom yaitu Neighborhood merupakan kolom kategorikal."
   ]
  },
  {
   "cell_type": "markdown",
   "id": "2b4f49c6",
   "metadata": {},
   "source": [
    "# Housing Price Dataset"
   ]
  },
  {
   "cell_type": "code",
   "execution_count": 1,
   "id": "c725cae6",
   "metadata": {},
   "outputs": [],
   "source": [
    "# import library\n",
    "import pandas as pd\n",
    "import numpy as np\n",
    "import base64,os,random,gc\n",
    "import seaborn as sns\n",
    "import matplotlib.pyplot as plt\n",
    "from sklearn.model_selection import train_test_split\n",
    "from sklearn.preprocessing import LabelEncoder\n",
    "from sklearn import preprocessing\n",
    "from sklearn.metrics import mean_absolute_error\n",
    "from sklearn.metrics import mean_squared_error\n",
    "from sklearn.metrics import median_absolute_error\n",
    "from sklearn.metrics import mean_squared_log_error\n",
    "from sklearn.metrics import r2_score\n",
    "from scipy import stats "
   ]
  },
  {
   "cell_type": "markdown",
   "id": "340c2e47",
   "metadata": {},
   "source": [
    "## EXPLORE DATA"
   ]
  },
  {
   "cell_type": "code",
   "execution_count": 2,
   "id": "2e3920f2",
   "metadata": {},
   "outputs": [
    {
     "data": {
      "text/html": [
       "<div>\n",
       "<style scoped>\n",
       "    .dataframe tbody tr th:only-of-type {\n",
       "        vertical-align: middle;\n",
       "    }\n",
       "\n",
       "    .dataframe tbody tr th {\n",
       "        vertical-align: top;\n",
       "    }\n",
       "\n",
       "    .dataframe thead th {\n",
       "        text-align: right;\n",
       "    }\n",
       "</style>\n",
       "<table border=\"1\" class=\"dataframe\">\n",
       "  <thead>\n",
       "    <tr style=\"text-align: right;\">\n",
       "      <th></th>\n",
       "      <th>SquareFeet</th>\n",
       "      <th>Bedrooms</th>\n",
       "      <th>Bathrooms</th>\n",
       "      <th>Neighborhood</th>\n",
       "      <th>YearBuilt</th>\n",
       "      <th>Price</th>\n",
       "    </tr>\n",
       "  </thead>\n",
       "  <tbody>\n",
       "    <tr>\n",
       "      <th>0</th>\n",
       "      <td>2126</td>\n",
       "      <td>4</td>\n",
       "      <td>1</td>\n",
       "      <td>Rural</td>\n",
       "      <td>1969</td>\n",
       "      <td>215355.283618</td>\n",
       "    </tr>\n",
       "    <tr>\n",
       "      <th>1</th>\n",
       "      <td>2459</td>\n",
       "      <td>3</td>\n",
       "      <td>2</td>\n",
       "      <td>Rural</td>\n",
       "      <td>1980</td>\n",
       "      <td>195014.221626</td>\n",
       "    </tr>\n",
       "    <tr>\n",
       "      <th>2</th>\n",
       "      <td>1860</td>\n",
       "      <td>2</td>\n",
       "      <td>1</td>\n",
       "      <td>Suburb</td>\n",
       "      <td>1970</td>\n",
       "      <td>306891.012076</td>\n",
       "    </tr>\n",
       "    <tr>\n",
       "      <th>3</th>\n",
       "      <td>2294</td>\n",
       "      <td>2</td>\n",
       "      <td>1</td>\n",
       "      <td>Urban</td>\n",
       "      <td>1996</td>\n",
       "      <td>206786.787153</td>\n",
       "    </tr>\n",
       "    <tr>\n",
       "      <th>4</th>\n",
       "      <td>2130</td>\n",
       "      <td>5</td>\n",
       "      <td>2</td>\n",
       "      <td>Suburb</td>\n",
       "      <td>2001</td>\n",
       "      <td>272436.239065</td>\n",
       "    </tr>\n",
       "    <tr>\n",
       "      <th>5</th>\n",
       "      <td>2095</td>\n",
       "      <td>2</td>\n",
       "      <td>3</td>\n",
       "      <td>Suburb</td>\n",
       "      <td>2020</td>\n",
       "      <td>198208.803907</td>\n",
       "    </tr>\n",
       "    <tr>\n",
       "      <th>6</th>\n",
       "      <td>2724</td>\n",
       "      <td>2</td>\n",
       "      <td>1</td>\n",
       "      <td>Suburb</td>\n",
       "      <td>1993</td>\n",
       "      <td>343429.319110</td>\n",
       "    </tr>\n",
       "    <tr>\n",
       "      <th>7</th>\n",
       "      <td>2044</td>\n",
       "      <td>4</td>\n",
       "      <td>3</td>\n",
       "      <td>Rural</td>\n",
       "      <td>1957</td>\n",
       "      <td>184992.321268</td>\n",
       "    </tr>\n",
       "    <tr>\n",
       "      <th>8</th>\n",
       "      <td>2638</td>\n",
       "      <td>4</td>\n",
       "      <td>3</td>\n",
       "      <td>Urban</td>\n",
       "      <td>1959</td>\n",
       "      <td>377998.588152</td>\n",
       "    </tr>\n",
       "    <tr>\n",
       "      <th>9</th>\n",
       "      <td>1121</td>\n",
       "      <td>5</td>\n",
       "      <td>2</td>\n",
       "      <td>Urban</td>\n",
       "      <td>2004</td>\n",
       "      <td>95961.926014</td>\n",
       "    </tr>\n",
       "  </tbody>\n",
       "</table>\n",
       "</div>"
      ],
      "text/plain": [
       "   SquareFeet  Bedrooms  Bathrooms Neighborhood  YearBuilt          Price\n",
       "0        2126         4          1        Rural       1969  215355.283618\n",
       "1        2459         3          2        Rural       1980  195014.221626\n",
       "2        1860         2          1       Suburb       1970  306891.012076\n",
       "3        2294         2          1        Urban       1996  206786.787153\n",
       "4        2130         5          2       Suburb       2001  272436.239065\n",
       "5        2095         2          3       Suburb       2020  198208.803907\n",
       "6        2724         2          1       Suburb       1993  343429.319110\n",
       "7        2044         4          3        Rural       1957  184992.321268\n",
       "8        2638         4          3        Urban       1959  377998.588152\n",
       "9        1121         5          2        Urban       2004   95961.926014"
      ]
     },
     "execution_count": 2,
     "metadata": {},
     "output_type": "execute_result"
    }
   ],
   "source": [
    "# Membaca data\n",
    "hp = pd.read_csv('housing_price_dataset.csv')\n",
    "hp.head (10)"
   ]
  },
  {
   "cell_type": "code",
   "execution_count": 3,
   "id": "20dfe12a",
   "metadata": {},
   "outputs": [
    {
     "name": "stdout",
     "output_type": "stream",
     "text": [
      "<class 'pandas.core.frame.DataFrame'>\n",
      "RangeIndex: 50000 entries, 0 to 49999\n",
      "Data columns (total 6 columns):\n",
      " #   Column        Non-Null Count  Dtype  \n",
      "---  ------        --------------  -----  \n",
      " 0   SquareFeet    50000 non-null  int64  \n",
      " 1   Bedrooms      50000 non-null  int64  \n",
      " 2   Bathrooms     50000 non-null  int64  \n",
      " 3   Neighborhood  50000 non-null  object \n",
      " 4   YearBuilt     50000 non-null  int64  \n",
      " 5   Price         50000 non-null  float64\n",
      "dtypes: float64(1), int64(4), object(1)\n",
      "memory usage: 2.3+ MB\n"
     ]
    }
   ],
   "source": [
    "hp.info()"
   ]
  },
  {
   "cell_type": "code",
   "execution_count": 4,
   "id": "bf8b0d34",
   "metadata": {},
   "outputs": [
    {
     "data": {
      "text/html": [
       "<div>\n",
       "<style scoped>\n",
       "    .dataframe tbody tr th:only-of-type {\n",
       "        vertical-align: middle;\n",
       "    }\n",
       "\n",
       "    .dataframe tbody tr th {\n",
       "        vertical-align: top;\n",
       "    }\n",
       "\n",
       "    .dataframe thead th {\n",
       "        text-align: right;\n",
       "    }\n",
       "</style>\n",
       "<table border=\"1\" class=\"dataframe\">\n",
       "  <thead>\n",
       "    <tr style=\"text-align: right;\">\n",
       "      <th></th>\n",
       "      <th>SquareFeet</th>\n",
       "      <th>Bedrooms</th>\n",
       "      <th>Bathrooms</th>\n",
       "      <th>YearBuilt</th>\n",
       "      <th>Price</th>\n",
       "    </tr>\n",
       "  </thead>\n",
       "  <tbody>\n",
       "    <tr>\n",
       "      <th>count</th>\n",
       "      <td>50000.000000</td>\n",
       "      <td>50000.000000</td>\n",
       "      <td>50000.000000</td>\n",
       "      <td>50000.000000</td>\n",
       "      <td>50000.000000</td>\n",
       "    </tr>\n",
       "    <tr>\n",
       "      <th>mean</th>\n",
       "      <td>2006.374680</td>\n",
       "      <td>3.498700</td>\n",
       "      <td>1.995420</td>\n",
       "      <td>1985.404420</td>\n",
       "      <td>224827.325151</td>\n",
       "    </tr>\n",
       "    <tr>\n",
       "      <th>std</th>\n",
       "      <td>575.513241</td>\n",
       "      <td>1.116326</td>\n",
       "      <td>0.815851</td>\n",
       "      <td>20.719377</td>\n",
       "      <td>76141.842966</td>\n",
       "    </tr>\n",
       "    <tr>\n",
       "      <th>min</th>\n",
       "      <td>1000.000000</td>\n",
       "      <td>2.000000</td>\n",
       "      <td>1.000000</td>\n",
       "      <td>1950.000000</td>\n",
       "      <td>-36588.165397</td>\n",
       "    </tr>\n",
       "    <tr>\n",
       "      <th>25%</th>\n",
       "      <td>1513.000000</td>\n",
       "      <td>3.000000</td>\n",
       "      <td>1.000000</td>\n",
       "      <td>1967.000000</td>\n",
       "      <td>169955.860225</td>\n",
       "    </tr>\n",
       "    <tr>\n",
       "      <th>50%</th>\n",
       "      <td>2007.000000</td>\n",
       "      <td>3.000000</td>\n",
       "      <td>2.000000</td>\n",
       "      <td>1985.000000</td>\n",
       "      <td>225052.141166</td>\n",
       "    </tr>\n",
       "    <tr>\n",
       "      <th>75%</th>\n",
       "      <td>2506.000000</td>\n",
       "      <td>4.000000</td>\n",
       "      <td>3.000000</td>\n",
       "      <td>2003.000000</td>\n",
       "      <td>279373.630052</td>\n",
       "    </tr>\n",
       "    <tr>\n",
       "      <th>max</th>\n",
       "      <td>2999.000000</td>\n",
       "      <td>5.000000</td>\n",
       "      <td>3.000000</td>\n",
       "      <td>2021.000000</td>\n",
       "      <td>492195.259972</td>\n",
       "    </tr>\n",
       "  </tbody>\n",
       "</table>\n",
       "</div>"
      ],
      "text/plain": [
       "         SquareFeet      Bedrooms     Bathrooms     YearBuilt          Price\n",
       "count  50000.000000  50000.000000  50000.000000  50000.000000   50000.000000\n",
       "mean    2006.374680      3.498700      1.995420   1985.404420  224827.325151\n",
       "std      575.513241      1.116326      0.815851     20.719377   76141.842966\n",
       "min     1000.000000      2.000000      1.000000   1950.000000  -36588.165397\n",
       "25%     1513.000000      3.000000      1.000000   1967.000000  169955.860225\n",
       "50%     2007.000000      3.000000      2.000000   1985.000000  225052.141166\n",
       "75%     2506.000000      4.000000      3.000000   2003.000000  279373.630052\n",
       "max     2999.000000      5.000000      3.000000   2021.000000  492195.259972"
      ]
     },
     "execution_count": 4,
     "metadata": {},
     "output_type": "execute_result"
    }
   ],
   "source": [
    "hp.describe()"
   ]
  },
  {
   "cell_type": "code",
   "execution_count": 5,
   "id": "d92650a1",
   "metadata": {},
   "outputs": [
    {
     "data": {
      "text/plain": [
       "(50000, 6)"
      ]
     },
     "execution_count": 5,
     "metadata": {},
     "output_type": "execute_result"
    }
   ],
   "source": [
    "hp.shape"
   ]
  },
  {
   "cell_type": "code",
   "execution_count": 6,
   "id": "ced477e7",
   "metadata": {},
   "outputs": [
    {
     "data": {
      "text/plain": [
       "SquareFeet      0\n",
       "Bedrooms        0\n",
       "Bathrooms       0\n",
       "Neighborhood    0\n",
       "YearBuilt       0\n",
       "Price           0\n",
       "dtype: int64"
      ]
     },
     "execution_count": 6,
     "metadata": {},
     "output_type": "execute_result"
    }
   ],
   "source": [
    "hp.isnull().sum()\n",
    "# Tidak ada missing values"
   ]
  },
  {
   "cell_type": "markdown",
   "id": "f46dde83",
   "metadata": {},
   "source": [
    "Berdasarkan langkah awal yang sudah dilakukan diatas, dapat disimpulkan bahwa dataset Housing Price memiliki 50.000 baris dan 6 kolom yang terdiri dari 5 kolom numerik serta 1 kolom kategorikal. Dataset ini tidak memiliki data yang hilang atau missing data."
   ]
  },
  {
   "cell_type": "markdown",
   "id": "503c1243",
   "metadata": {},
   "source": [
    "## PREPARING DATA"
   ]
  },
  {
   "cell_type": "markdown",
   "id": "43351940",
   "metadata": {},
   "source": [
    "membuat kolom baru yang bernama 'YearNow' yang nantinya digunakan untuk menghasilkan kolom 'Age' "
   ]
  },
  {
   "cell_type": "code",
   "execution_count": 7,
   "id": "6516313f",
   "metadata": {},
   "outputs": [],
   "source": [
    "hp[\"YearNow\"] = 2023"
   ]
  },
  {
   "cell_type": "markdown",
   "id": "204453cd",
   "metadata": {},
   "source": [
    "Melakukan Encoding pada kolom Neighborhood dengan membuat kolom baru bernama Neighborhood code. Jenis wilayah akan ditambahkan dengan index 0-2, rural = 0, subrural = 1, urban = 2 "
   ]
  },
  {
   "cell_type": "code",
   "execution_count": 8,
   "id": "4ea63265",
   "metadata": {},
   "outputs": [],
   "source": [
    "hp[\"Age\"] = hp.apply(lambda x: x[\"YearNow\"] - x[\"YearBuilt\"], axis = 1)"
   ]
  },
  {
   "cell_type": "markdown",
   "id": "8236eeae",
   "metadata": {},
   "source": [
    "kolom 'Age' dibuat dari hasil kolom 'YearNow' - 'YearBuilt' menggunakan fungsi apply () untuk implementasi hasil pengurangan ke dataFrame. Alasan mengapa membuat kolom YearNow dan Age karena ingin melihat jika perbandingan harga rumah dari lama nya rumah itu dibuat. "
   ]
  },
  {
   "cell_type": "code",
   "execution_count": 9,
   "id": "dc675313",
   "metadata": {},
   "outputs": [
    {
     "data": {
      "text/html": [
       "<div>\n",
       "<style scoped>\n",
       "    .dataframe tbody tr th:only-of-type {\n",
       "        vertical-align: middle;\n",
       "    }\n",
       "\n",
       "    .dataframe tbody tr th {\n",
       "        vertical-align: top;\n",
       "    }\n",
       "\n",
       "    .dataframe thead th {\n",
       "        text-align: right;\n",
       "    }\n",
       "</style>\n",
       "<table border=\"1\" class=\"dataframe\">\n",
       "  <thead>\n",
       "    <tr style=\"text-align: right;\">\n",
       "      <th></th>\n",
       "      <th>SquareFeet</th>\n",
       "      <th>Bedrooms</th>\n",
       "      <th>Bathrooms</th>\n",
       "      <th>Neighborhood</th>\n",
       "      <th>YearBuilt</th>\n",
       "      <th>Price</th>\n",
       "      <th>YearNow</th>\n",
       "      <th>Age</th>\n",
       "      <th>Neighborhood code</th>\n",
       "    </tr>\n",
       "  </thead>\n",
       "  <tbody>\n",
       "    <tr>\n",
       "      <th>0</th>\n",
       "      <td>2126</td>\n",
       "      <td>4</td>\n",
       "      <td>1</td>\n",
       "      <td>Rural</td>\n",
       "      <td>1969</td>\n",
       "      <td>215355.283618</td>\n",
       "      <td>2023</td>\n",
       "      <td>54</td>\n",
       "      <td>0</td>\n",
       "    </tr>\n",
       "    <tr>\n",
       "      <th>1</th>\n",
       "      <td>2459</td>\n",
       "      <td>3</td>\n",
       "      <td>2</td>\n",
       "      <td>Rural</td>\n",
       "      <td>1980</td>\n",
       "      <td>195014.221626</td>\n",
       "      <td>2023</td>\n",
       "      <td>43</td>\n",
       "      <td>0</td>\n",
       "    </tr>\n",
       "    <tr>\n",
       "      <th>2</th>\n",
       "      <td>1860</td>\n",
       "      <td>2</td>\n",
       "      <td>1</td>\n",
       "      <td>Suburb</td>\n",
       "      <td>1970</td>\n",
       "      <td>306891.012076</td>\n",
       "      <td>2023</td>\n",
       "      <td>53</td>\n",
       "      <td>1</td>\n",
       "    </tr>\n",
       "    <tr>\n",
       "      <th>3</th>\n",
       "      <td>2294</td>\n",
       "      <td>2</td>\n",
       "      <td>1</td>\n",
       "      <td>Urban</td>\n",
       "      <td>1996</td>\n",
       "      <td>206786.787153</td>\n",
       "      <td>2023</td>\n",
       "      <td>27</td>\n",
       "      <td>2</td>\n",
       "    </tr>\n",
       "    <tr>\n",
       "      <th>4</th>\n",
       "      <td>2130</td>\n",
       "      <td>5</td>\n",
       "      <td>2</td>\n",
       "      <td>Suburb</td>\n",
       "      <td>2001</td>\n",
       "      <td>272436.239065</td>\n",
       "      <td>2023</td>\n",
       "      <td>22</td>\n",
       "      <td>1</td>\n",
       "    </tr>\n",
       "  </tbody>\n",
       "</table>\n",
       "</div>"
      ],
      "text/plain": [
       "   SquareFeet  Bedrooms  Bathrooms Neighborhood  YearBuilt          Price  \\\n",
       "0        2126         4          1        Rural       1969  215355.283618   \n",
       "1        2459         3          2        Rural       1980  195014.221626   \n",
       "2        1860         2          1       Suburb       1970  306891.012076   \n",
       "3        2294         2          1        Urban       1996  206786.787153   \n",
       "4        2130         5          2       Suburb       2001  272436.239065   \n",
       "\n",
       "   YearNow  Age  Neighborhood code  \n",
       "0     2023   54                  0  \n",
       "1     2023   43                  0  \n",
       "2     2023   53                  1  \n",
       "3     2023   27                  2  \n",
       "4     2023   22                  1  "
      ]
     },
     "execution_count": 9,
     "metadata": {},
     "output_type": "execute_result"
    }
   ],
   "source": [
    "hp['Neighborhood'] = hp['Neighborhood'].astype('category')\n",
    "hp['Neighborhood code'] = hp['Neighborhood'].cat.codes\n",
    "hp.head()"
   ]
  },
  {
   "cell_type": "markdown",
   "id": "919915f7",
   "metadata": {},
   "source": [
    "Melakukan BINNING pada kolom Price dengan membuat kolom baru bernama Price Category dimana jika Price > 224000 = mahal and jika price < 224000 = murah."
   ]
  },
  {
   "cell_type": "code",
   "execution_count": 10,
   "id": "1f4ede17",
   "metadata": {},
   "outputs": [
    {
     "data": {
      "text/html": [
       "<div>\n",
       "<style scoped>\n",
       "    .dataframe tbody tr th:only-of-type {\n",
       "        vertical-align: middle;\n",
       "    }\n",
       "\n",
       "    .dataframe tbody tr th {\n",
       "        vertical-align: top;\n",
       "    }\n",
       "\n",
       "    .dataframe thead th {\n",
       "        text-align: right;\n",
       "    }\n",
       "</style>\n",
       "<table border=\"1\" class=\"dataframe\">\n",
       "  <thead>\n",
       "    <tr style=\"text-align: right;\">\n",
       "      <th></th>\n",
       "      <th>SquareFeet</th>\n",
       "      <th>Bedrooms</th>\n",
       "      <th>Bathrooms</th>\n",
       "      <th>Neighborhood</th>\n",
       "      <th>YearBuilt</th>\n",
       "      <th>Price</th>\n",
       "      <th>YearNow</th>\n",
       "      <th>Age</th>\n",
       "      <th>Neighborhood code</th>\n",
       "      <th>Price Category</th>\n",
       "    </tr>\n",
       "  </thead>\n",
       "  <tbody>\n",
       "    <tr>\n",
       "      <th>0</th>\n",
       "      <td>2126</td>\n",
       "      <td>4</td>\n",
       "      <td>1</td>\n",
       "      <td>Rural</td>\n",
       "      <td>1969</td>\n",
       "      <td>215355.283618</td>\n",
       "      <td>2023</td>\n",
       "      <td>54</td>\n",
       "      <td>0</td>\n",
       "      <td>murah</td>\n",
       "    </tr>\n",
       "    <tr>\n",
       "      <th>1</th>\n",
       "      <td>2459</td>\n",
       "      <td>3</td>\n",
       "      <td>2</td>\n",
       "      <td>Rural</td>\n",
       "      <td>1980</td>\n",
       "      <td>195014.221626</td>\n",
       "      <td>2023</td>\n",
       "      <td>43</td>\n",
       "      <td>0</td>\n",
       "      <td>murah</td>\n",
       "    </tr>\n",
       "    <tr>\n",
       "      <th>2</th>\n",
       "      <td>1860</td>\n",
       "      <td>2</td>\n",
       "      <td>1</td>\n",
       "      <td>Suburb</td>\n",
       "      <td>1970</td>\n",
       "      <td>306891.012076</td>\n",
       "      <td>2023</td>\n",
       "      <td>53</td>\n",
       "      <td>1</td>\n",
       "      <td>mahal</td>\n",
       "    </tr>\n",
       "    <tr>\n",
       "      <th>3</th>\n",
       "      <td>2294</td>\n",
       "      <td>2</td>\n",
       "      <td>1</td>\n",
       "      <td>Urban</td>\n",
       "      <td>1996</td>\n",
       "      <td>206786.787153</td>\n",
       "      <td>2023</td>\n",
       "      <td>27</td>\n",
       "      <td>2</td>\n",
       "      <td>murah</td>\n",
       "    </tr>\n",
       "    <tr>\n",
       "      <th>4</th>\n",
       "      <td>2130</td>\n",
       "      <td>5</td>\n",
       "      <td>2</td>\n",
       "      <td>Suburb</td>\n",
       "      <td>2001</td>\n",
       "      <td>272436.239065</td>\n",
       "      <td>2023</td>\n",
       "      <td>22</td>\n",
       "      <td>1</td>\n",
       "      <td>mahal</td>\n",
       "    </tr>\n",
       "  </tbody>\n",
       "</table>\n",
       "</div>"
      ],
      "text/plain": [
       "   SquareFeet  Bedrooms  Bathrooms Neighborhood  YearBuilt          Price  \\\n",
       "0        2126         4          1        Rural       1969  215355.283618   \n",
       "1        2459         3          2        Rural       1980  195014.221626   \n",
       "2        1860         2          1       Suburb       1970  306891.012076   \n",
       "3        2294         2          1        Urban       1996  206786.787153   \n",
       "4        2130         5          2       Suburb       2001  272436.239065   \n",
       "\n",
       "   YearNow  Age  Neighborhood code Price Category  \n",
       "0     2023   54                  0          murah  \n",
       "1     2023   43                  0          murah  \n",
       "2     2023   53                  1          mahal  \n",
       "3     2023   27                  2          murah  \n",
       "4     2023   22                  1          mahal  "
      ]
     },
     "execution_count": 10,
     "metadata": {},
     "output_type": "execute_result"
    }
   ],
   "source": [
    "hp['Price Category']=np.where(\n",
    "hp['Price'] > 224000, 'mahal', np.where(\n",
    "hp['Price'] < 224000, 'murah', -1))\n",
    "hp.head()"
   ]
  },
  {
   "cell_type": "markdown",
   "id": "39847376",
   "metadata": {},
   "source": [
    "Melakukan BINNING pada kolom Age dengan membuat kolom baru bernama Age Category dimana Age sendiri akan dibagi menjadi 3 kategori dengan menggunakan library numpy. BINNING ini dilakukan untuk mengetahui kategori rumah yang sudah tua, masih mudah, atau masih baru."
   ]
  },
  {
   "cell_type": "code",
   "execution_count": 11,
   "id": "0868f62d",
   "metadata": {},
   "outputs": [
    {
     "data": {
      "text/html": [
       "<div>\n",
       "<style scoped>\n",
       "    .dataframe tbody tr th:only-of-type {\n",
       "        vertical-align: middle;\n",
       "    }\n",
       "\n",
       "    .dataframe tbody tr th {\n",
       "        vertical-align: top;\n",
       "    }\n",
       "\n",
       "    .dataframe thead th {\n",
       "        text-align: right;\n",
       "    }\n",
       "</style>\n",
       "<table border=\"1\" class=\"dataframe\">\n",
       "  <thead>\n",
       "    <tr style=\"text-align: right;\">\n",
       "      <th></th>\n",
       "      <th>SquareFeet</th>\n",
       "      <th>Bedrooms</th>\n",
       "      <th>Bathrooms</th>\n",
       "      <th>Neighborhood</th>\n",
       "      <th>YearBuilt</th>\n",
       "      <th>Price</th>\n",
       "      <th>YearNow</th>\n",
       "      <th>Age</th>\n",
       "      <th>Neighborhood code</th>\n",
       "      <th>Price Category</th>\n",
       "      <th>Age Category</th>\n",
       "    </tr>\n",
       "  </thead>\n",
       "  <tbody>\n",
       "    <tr>\n",
       "      <th>0</th>\n",
       "      <td>2126</td>\n",
       "      <td>4</td>\n",
       "      <td>1</td>\n",
       "      <td>Rural</td>\n",
       "      <td>1969</td>\n",
       "      <td>215355.283618</td>\n",
       "      <td>2023</td>\n",
       "      <td>54</td>\n",
       "      <td>0</td>\n",
       "      <td>murah</td>\n",
       "      <td>Tua</td>\n",
       "    </tr>\n",
       "    <tr>\n",
       "      <th>1</th>\n",
       "      <td>2459</td>\n",
       "      <td>3</td>\n",
       "      <td>2</td>\n",
       "      <td>Rural</td>\n",
       "      <td>1980</td>\n",
       "      <td>195014.221626</td>\n",
       "      <td>2023</td>\n",
       "      <td>43</td>\n",
       "      <td>0</td>\n",
       "      <td>murah</td>\n",
       "      <td>Muda</td>\n",
       "    </tr>\n",
       "    <tr>\n",
       "      <th>2</th>\n",
       "      <td>1860</td>\n",
       "      <td>2</td>\n",
       "      <td>1</td>\n",
       "      <td>Suburb</td>\n",
       "      <td>1970</td>\n",
       "      <td>306891.012076</td>\n",
       "      <td>2023</td>\n",
       "      <td>53</td>\n",
       "      <td>1</td>\n",
       "      <td>mahal</td>\n",
       "      <td>Tua</td>\n",
       "    </tr>\n",
       "    <tr>\n",
       "      <th>3</th>\n",
       "      <td>2294</td>\n",
       "      <td>2</td>\n",
       "      <td>1</td>\n",
       "      <td>Urban</td>\n",
       "      <td>1996</td>\n",
       "      <td>206786.787153</td>\n",
       "      <td>2023</td>\n",
       "      <td>27</td>\n",
       "      <td>2</td>\n",
       "      <td>murah</td>\n",
       "      <td>Muda</td>\n",
       "    </tr>\n",
       "    <tr>\n",
       "      <th>4</th>\n",
       "      <td>2130</td>\n",
       "      <td>5</td>\n",
       "      <td>2</td>\n",
       "      <td>Suburb</td>\n",
       "      <td>2001</td>\n",
       "      <td>272436.239065</td>\n",
       "      <td>2023</td>\n",
       "      <td>22</td>\n",
       "      <td>1</td>\n",
       "      <td>mahal</td>\n",
       "      <td>Baru</td>\n",
       "    </tr>\n",
       "  </tbody>\n",
       "</table>\n",
       "</div>"
      ],
      "text/plain": [
       "   SquareFeet  Bedrooms  Bathrooms Neighborhood  YearBuilt          Price  \\\n",
       "0        2126         4          1        Rural       1969  215355.283618   \n",
       "1        2459         3          2        Rural       1980  195014.221626   \n",
       "2        1860         2          1       Suburb       1970  306891.012076   \n",
       "3        2294         2          1        Urban       1996  206786.787153   \n",
       "4        2130         5          2       Suburb       2001  272436.239065   \n",
       "\n",
       "   YearNow  Age  Neighborhood code Price Category Age Category  \n",
       "0     2023   54                  0          murah          Tua  \n",
       "1     2023   43                  0          murah         Muda  \n",
       "2     2023   53                  1          mahal          Tua  \n",
       "3     2023   27                  2          murah         Muda  \n",
       "4     2023   22                  1          mahal         Baru  "
      ]
     },
     "execution_count": 11,
     "metadata": {},
     "output_type": "execute_result"
    }
   ],
   "source": [
    "bins = np.linspace(min(hp['Age']),\n",
    "                   max(hp['Age']), 4)\n",
    "group_names = ['Baru','Muda','Tua']\n",
    "\n",
    "hp['Age Category'] = pd.cut(hp['Age'],\n",
    "                            bins,\n",
    "                            labels = group_names,\n",
    "                            include_lowest = True)\n",
    "hp.head(5)"
   ]
  },
  {
   "cell_type": "code",
   "execution_count": 12,
   "id": "ae1cfcbe",
   "metadata": {},
   "outputs": [
    {
     "data": {
      "text/html": [
       "<div>\n",
       "<style scoped>\n",
       "    .dataframe tbody tr th:only-of-type {\n",
       "        vertical-align: middle;\n",
       "    }\n",
       "\n",
       "    .dataframe tbody tr th {\n",
       "        vertical-align: top;\n",
       "    }\n",
       "\n",
       "    .dataframe thead th {\n",
       "        text-align: right;\n",
       "    }\n",
       "</style>\n",
       "<table border=\"1\" class=\"dataframe\">\n",
       "  <thead>\n",
       "    <tr style=\"text-align: right;\">\n",
       "      <th></th>\n",
       "      <th>SquareFeet</th>\n",
       "      <th>Bedrooms</th>\n",
       "      <th>Bathrooms</th>\n",
       "      <th>YearBuilt</th>\n",
       "      <th>YearNow</th>\n",
       "      <th>Age</th>\n",
       "      <th>Age Category</th>\n",
       "      <th>Neighborhood</th>\n",
       "      <th>Neighborhood code</th>\n",
       "      <th>Price</th>\n",
       "      <th>Price Category</th>\n",
       "    </tr>\n",
       "  </thead>\n",
       "  <tbody>\n",
       "    <tr>\n",
       "      <th>0</th>\n",
       "      <td>2126</td>\n",
       "      <td>4</td>\n",
       "      <td>1</td>\n",
       "      <td>1969</td>\n",
       "      <td>2023</td>\n",
       "      <td>54</td>\n",
       "      <td>Tua</td>\n",
       "      <td>Rural</td>\n",
       "      <td>0</td>\n",
       "      <td>215355.283618</td>\n",
       "      <td>murah</td>\n",
       "    </tr>\n",
       "    <tr>\n",
       "      <th>1</th>\n",
       "      <td>2459</td>\n",
       "      <td>3</td>\n",
       "      <td>2</td>\n",
       "      <td>1980</td>\n",
       "      <td>2023</td>\n",
       "      <td>43</td>\n",
       "      <td>Muda</td>\n",
       "      <td>Rural</td>\n",
       "      <td>0</td>\n",
       "      <td>195014.221626</td>\n",
       "      <td>murah</td>\n",
       "    </tr>\n",
       "    <tr>\n",
       "      <th>2</th>\n",
       "      <td>1860</td>\n",
       "      <td>2</td>\n",
       "      <td>1</td>\n",
       "      <td>1970</td>\n",
       "      <td>2023</td>\n",
       "      <td>53</td>\n",
       "      <td>Tua</td>\n",
       "      <td>Suburb</td>\n",
       "      <td>1</td>\n",
       "      <td>306891.012076</td>\n",
       "      <td>mahal</td>\n",
       "    </tr>\n",
       "    <tr>\n",
       "      <th>3</th>\n",
       "      <td>2294</td>\n",
       "      <td>2</td>\n",
       "      <td>1</td>\n",
       "      <td>1996</td>\n",
       "      <td>2023</td>\n",
       "      <td>27</td>\n",
       "      <td>Muda</td>\n",
       "      <td>Urban</td>\n",
       "      <td>2</td>\n",
       "      <td>206786.787153</td>\n",
       "      <td>murah</td>\n",
       "    </tr>\n",
       "    <tr>\n",
       "      <th>4</th>\n",
       "      <td>2130</td>\n",
       "      <td>5</td>\n",
       "      <td>2</td>\n",
       "      <td>2001</td>\n",
       "      <td>2023</td>\n",
       "      <td>22</td>\n",
       "      <td>Baru</td>\n",
       "      <td>Suburb</td>\n",
       "      <td>1</td>\n",
       "      <td>272436.239065</td>\n",
       "      <td>mahal</td>\n",
       "    </tr>\n",
       "  </tbody>\n",
       "</table>\n",
       "</div>"
      ],
      "text/plain": [
       "   SquareFeet  Bedrooms  Bathrooms  YearBuilt  YearNow  Age Age Category  \\\n",
       "0        2126         4          1       1969     2023   54          Tua   \n",
       "1        2459         3          2       1980     2023   43         Muda   \n",
       "2        1860         2          1       1970     2023   53          Tua   \n",
       "3        2294         2          1       1996     2023   27         Muda   \n",
       "4        2130         5          2       2001     2023   22         Baru   \n",
       "\n",
       "  Neighborhood  Neighborhood code          Price Price Category  \n",
       "0        Rural                  0  215355.283618          murah  \n",
       "1        Rural                  0  195014.221626          murah  \n",
       "2       Suburb                  1  306891.012076          mahal  \n",
       "3        Urban                  2  206786.787153          murah  \n",
       "4       Suburb                  1  272436.239065          mahal  "
      ]
     },
     "execution_count": 12,
     "metadata": {},
     "output_type": "execute_result"
    }
   ],
   "source": [
    "# Mengubah urutan kolom\n",
    "hp = hp[['SquareFeet','Bedrooms','Bathrooms','YearBuilt', 'YearNow', 'Age', 'Age Category', 'Neighborhood','Neighborhood code','Price','Price Category']]\n",
    "hp.head()"
   ]
  },
  {
   "cell_type": "code",
   "execution_count": 13,
   "id": "b409e001",
   "metadata": {},
   "outputs": [
    {
     "name": "stdout",
     "output_type": "stream",
     "text": [
      "<class 'pandas.core.frame.DataFrame'>\n",
      "RangeIndex: 50000 entries, 0 to 49999\n",
      "Data columns (total 11 columns):\n",
      " #   Column             Non-Null Count  Dtype   \n",
      "---  ------             --------------  -----   \n",
      " 0   SquareFeet         50000 non-null  int64   \n",
      " 1   Bedrooms           50000 non-null  int64   \n",
      " 2   Bathrooms          50000 non-null  int64   \n",
      " 3   YearBuilt          50000 non-null  int64   \n",
      " 4   YearNow            50000 non-null  int64   \n",
      " 5   Age                50000 non-null  int64   \n",
      " 6   Age Category       50000 non-null  category\n",
      " 7   Neighborhood       50000 non-null  category\n",
      " 8   Neighborhood code  50000 non-null  int8    \n",
      " 9   Price              50000 non-null  float64 \n",
      " 10  Price Category     50000 non-null  object  \n",
      "dtypes: category(2), float64(1), int64(6), int8(1), object(1)\n",
      "memory usage: 3.2+ MB\n"
     ]
    }
   ],
   "source": [
    "# Informasi dari dataset\n",
    "hp.info()"
   ]
  },
  {
   "cell_type": "code",
   "execution_count": 14,
   "id": "855e9de7",
   "metadata": {},
   "outputs": [
    {
     "name": "stdout",
     "output_type": "stream",
     "text": [
      "<class 'pandas.core.frame.DataFrame'>\n",
      "RangeIndex: 50000 entries, 0 to 49999\n",
      "Data columns (total 11 columns):\n",
      " #   Column             Non-Null Count  Dtype   \n",
      "---  ------             --------------  -----   \n",
      " 0   SquareFeet         50000 non-null  int64   \n",
      " 1   Bedrooms           50000 non-null  int64   \n",
      " 2   Bathrooms          50000 non-null  int64   \n",
      " 3   YearBuilt          50000 non-null  int64   \n",
      " 4   YearNow            50000 non-null  int64   \n",
      " 5   Age                50000 non-null  int64   \n",
      " 6   Age Category       50000 non-null  category\n",
      " 7   Neighborhood       50000 non-null  category\n",
      " 8   Neighborhood code  50000 non-null  int8    \n",
      " 9   Price              50000 non-null  float64 \n",
      " 10  Price Category     50000 non-null  category\n",
      "dtypes: category(3), float64(1), int64(6), int8(1)\n",
      "memory usage: 2.9 MB\n"
     ]
    }
   ],
   "source": [
    "# Melakukan formatting dengan mengubah data type Price Category yang object menjadi category\n",
    "hp[\"Price Category\"] = hp[\"Price Category\"].astype(\"category\")\n",
    "hp.info()"
   ]
  },
  {
   "cell_type": "code",
   "execution_count": 15,
   "id": "0998faee",
   "metadata": {},
   "outputs": [
    {
     "data": {
      "text/html": [
       "<div>\n",
       "<style scoped>\n",
       "    .dataframe tbody tr th:only-of-type {\n",
       "        vertical-align: middle;\n",
       "    }\n",
       "\n",
       "    .dataframe tbody tr th {\n",
       "        vertical-align: top;\n",
       "    }\n",
       "\n",
       "    .dataframe thead th {\n",
       "        text-align: right;\n",
       "    }\n",
       "</style>\n",
       "<table border=\"1\" class=\"dataframe\">\n",
       "  <thead>\n",
       "    <tr style=\"text-align: right;\">\n",
       "      <th></th>\n",
       "      <th>SquareFeet</th>\n",
       "      <th>Bedrooms</th>\n",
       "      <th>Bathrooms</th>\n",
       "      <th>YearBuilt</th>\n",
       "      <th>YearNow</th>\n",
       "      <th>Age</th>\n",
       "      <th>Age Category</th>\n",
       "      <th>Neighborhood</th>\n",
       "      <th>Neighborhood code</th>\n",
       "      <th>Price</th>\n",
       "      <th>Price Category</th>\n",
       "    </tr>\n",
       "  </thead>\n",
       "  <tbody>\n",
       "    <tr>\n",
       "      <th>0</th>\n",
       "      <td>2126</td>\n",
       "      <td>4</td>\n",
       "      <td>1</td>\n",
       "      <td>1969</td>\n",
       "      <td>2023</td>\n",
       "      <td>54</td>\n",
       "      <td>Tua</td>\n",
       "      <td>Rural</td>\n",
       "      <td>0</td>\n",
       "      <td>215355.28</td>\n",
       "      <td>murah</td>\n",
       "    </tr>\n",
       "    <tr>\n",
       "      <th>1</th>\n",
       "      <td>2459</td>\n",
       "      <td>3</td>\n",
       "      <td>2</td>\n",
       "      <td>1980</td>\n",
       "      <td>2023</td>\n",
       "      <td>43</td>\n",
       "      <td>Muda</td>\n",
       "      <td>Rural</td>\n",
       "      <td>0</td>\n",
       "      <td>195014.22</td>\n",
       "      <td>murah</td>\n",
       "    </tr>\n",
       "    <tr>\n",
       "      <th>2</th>\n",
       "      <td>1860</td>\n",
       "      <td>2</td>\n",
       "      <td>1</td>\n",
       "      <td>1970</td>\n",
       "      <td>2023</td>\n",
       "      <td>53</td>\n",
       "      <td>Tua</td>\n",
       "      <td>Suburb</td>\n",
       "      <td>1</td>\n",
       "      <td>306891.01</td>\n",
       "      <td>mahal</td>\n",
       "    </tr>\n",
       "    <tr>\n",
       "      <th>3</th>\n",
       "      <td>2294</td>\n",
       "      <td>2</td>\n",
       "      <td>1</td>\n",
       "      <td>1996</td>\n",
       "      <td>2023</td>\n",
       "      <td>27</td>\n",
       "      <td>Muda</td>\n",
       "      <td>Urban</td>\n",
       "      <td>2</td>\n",
       "      <td>206786.79</td>\n",
       "      <td>murah</td>\n",
       "    </tr>\n",
       "    <tr>\n",
       "      <th>4</th>\n",
       "      <td>2130</td>\n",
       "      <td>5</td>\n",
       "      <td>2</td>\n",
       "      <td>2001</td>\n",
       "      <td>2023</td>\n",
       "      <td>22</td>\n",
       "      <td>Baru</td>\n",
       "      <td>Suburb</td>\n",
       "      <td>1</td>\n",
       "      <td>272436.24</td>\n",
       "      <td>mahal</td>\n",
       "    </tr>\n",
       "  </tbody>\n",
       "</table>\n",
       "</div>"
      ],
      "text/plain": [
       "   SquareFeet  Bedrooms  Bathrooms  YearBuilt  YearNow  Age Age Category  \\\n",
       "0        2126         4          1       1969     2023   54          Tua   \n",
       "1        2459         3          2       1980     2023   43         Muda   \n",
       "2        1860         2          1       1970     2023   53          Tua   \n",
       "3        2294         2          1       1996     2023   27         Muda   \n",
       "4        2130         5          2       2001     2023   22         Baru   \n",
       "\n",
       "  Neighborhood  Neighborhood code      Price Price Category  \n",
       "0        Rural                  0  215355.28          murah  \n",
       "1        Rural                  0  195014.22          murah  \n",
       "2       Suburb                  1  306891.01          mahal  \n",
       "3        Urban                  2  206786.79          murah  \n",
       "4       Suburb                  1  272436.24          mahal  "
      ]
     },
     "execution_count": 15,
     "metadata": {},
     "output_type": "execute_result"
    }
   ],
   "source": [
    "# Melakukan formatting data kolom Price, yaitu dengan mengambil 2 angka di belakang koma untuk mempermudah proses analisa\n",
    "hp['Price'] = hp['Price'].apply(lambda x: round(x, 2))\n",
    "hp.head()"
   ]
  },
  {
   "cell_type": "code",
   "execution_count": 16,
   "id": "34e9a0e0",
   "metadata": {},
   "outputs": [
    {
     "data": {
      "text/html": [
       "<div>\n",
       "<style scoped>\n",
       "    .dataframe tbody tr th:only-of-type {\n",
       "        vertical-align: middle;\n",
       "    }\n",
       "\n",
       "    .dataframe tbody tr th {\n",
       "        vertical-align: top;\n",
       "    }\n",
       "\n",
       "    .dataframe thead th {\n",
       "        text-align: right;\n",
       "    }\n",
       "</style>\n",
       "<table border=\"1\" class=\"dataframe\">\n",
       "  <thead>\n",
       "    <tr style=\"text-align: right;\">\n",
       "      <th></th>\n",
       "      <th>SquareFeet</th>\n",
       "      <th>Bedrooms</th>\n",
       "      <th>Bathrooms</th>\n",
       "      <th>YearBuilt</th>\n",
       "      <th>YearNow</th>\n",
       "      <th>Age</th>\n",
       "      <th>Neighborhood code</th>\n",
       "      <th>Price</th>\n",
       "    </tr>\n",
       "  </thead>\n",
       "  <tbody>\n",
       "    <tr>\n",
       "      <th>count</th>\n",
       "      <td>50000.000000</td>\n",
       "      <td>50000.000000</td>\n",
       "      <td>50000.000000</td>\n",
       "      <td>50000.000000</td>\n",
       "      <td>50000.0</td>\n",
       "      <td>50000.000000</td>\n",
       "      <td>50000.000000</td>\n",
       "      <td>50000.000000</td>\n",
       "    </tr>\n",
       "    <tr>\n",
       "      <th>mean</th>\n",
       "      <td>2006.374680</td>\n",
       "      <td>3.498700</td>\n",
       "      <td>1.995420</td>\n",
       "      <td>1985.404420</td>\n",
       "      <td>2023.0</td>\n",
       "      <td>37.595580</td>\n",
       "      <td>0.998540</td>\n",
       "      <td>224827.325129</td>\n",
       "    </tr>\n",
       "    <tr>\n",
       "      <th>std</th>\n",
       "      <td>575.513241</td>\n",
       "      <td>1.116326</td>\n",
       "      <td>0.815851</td>\n",
       "      <td>20.719377</td>\n",
       "      <td>0.0</td>\n",
       "      <td>20.719377</td>\n",
       "      <td>0.815838</td>\n",
       "      <td>76141.842956</td>\n",
       "    </tr>\n",
       "    <tr>\n",
       "      <th>min</th>\n",
       "      <td>1000.000000</td>\n",
       "      <td>2.000000</td>\n",
       "      <td>1.000000</td>\n",
       "      <td>1950.000000</td>\n",
       "      <td>2023.0</td>\n",
       "      <td>2.000000</td>\n",
       "      <td>0.000000</td>\n",
       "      <td>-36588.170000</td>\n",
       "    </tr>\n",
       "    <tr>\n",
       "      <th>25%</th>\n",
       "      <td>1513.000000</td>\n",
       "      <td>3.000000</td>\n",
       "      <td>1.000000</td>\n",
       "      <td>1967.000000</td>\n",
       "      <td>2023.0</td>\n",
       "      <td>20.000000</td>\n",
       "      <td>0.000000</td>\n",
       "      <td>169955.865000</td>\n",
       "    </tr>\n",
       "    <tr>\n",
       "      <th>50%</th>\n",
       "      <td>2007.000000</td>\n",
       "      <td>3.000000</td>\n",
       "      <td>2.000000</td>\n",
       "      <td>1985.000000</td>\n",
       "      <td>2023.0</td>\n",
       "      <td>38.000000</td>\n",
       "      <td>1.000000</td>\n",
       "      <td>225052.140000</td>\n",
       "    </tr>\n",
       "    <tr>\n",
       "      <th>75%</th>\n",
       "      <td>2506.000000</td>\n",
       "      <td>4.000000</td>\n",
       "      <td>3.000000</td>\n",
       "      <td>2003.000000</td>\n",
       "      <td>2023.0</td>\n",
       "      <td>56.000000</td>\n",
       "      <td>2.000000</td>\n",
       "      <td>279373.630000</td>\n",
       "    </tr>\n",
       "    <tr>\n",
       "      <th>max</th>\n",
       "      <td>2999.000000</td>\n",
       "      <td>5.000000</td>\n",
       "      <td>3.000000</td>\n",
       "      <td>2021.000000</td>\n",
       "      <td>2023.0</td>\n",
       "      <td>73.000000</td>\n",
       "      <td>2.000000</td>\n",
       "      <td>492195.260000</td>\n",
       "    </tr>\n",
       "  </tbody>\n",
       "</table>\n",
       "</div>"
      ],
      "text/plain": [
       "         SquareFeet      Bedrooms     Bathrooms     YearBuilt  YearNow  \\\n",
       "count  50000.000000  50000.000000  50000.000000  50000.000000  50000.0   \n",
       "mean    2006.374680      3.498700      1.995420   1985.404420   2023.0   \n",
       "std      575.513241      1.116326      0.815851     20.719377      0.0   \n",
       "min     1000.000000      2.000000      1.000000   1950.000000   2023.0   \n",
       "25%     1513.000000      3.000000      1.000000   1967.000000   2023.0   \n",
       "50%     2007.000000      3.000000      2.000000   1985.000000   2023.0   \n",
       "75%     2506.000000      4.000000      3.000000   2003.000000   2023.0   \n",
       "max     2999.000000      5.000000      3.000000   2021.000000   2023.0   \n",
       "\n",
       "                Age  Neighborhood code          Price  \n",
       "count  50000.000000       50000.000000   50000.000000  \n",
       "mean      37.595580           0.998540  224827.325129  \n",
       "std       20.719377           0.815838   76141.842956  \n",
       "min        2.000000           0.000000  -36588.170000  \n",
       "25%       20.000000           0.000000  169955.865000  \n",
       "50%       38.000000           1.000000  225052.140000  \n",
       "75%       56.000000           2.000000  279373.630000  \n",
       "max       73.000000           2.000000  492195.260000  "
      ]
     },
     "execution_count": 16,
     "metadata": {},
     "output_type": "execute_result"
    }
   ],
   "source": [
    "# Statistik dari dataset\n",
    "hp.describe()"
   ]
  },
  {
   "cell_type": "code",
   "execution_count": 17,
   "id": "d8223897",
   "metadata": {},
   "outputs": [
    {
     "data": {
      "text/plain": [
       "(50000, 11)"
      ]
     },
     "execution_count": 17,
     "metadata": {},
     "output_type": "execute_result"
    }
   ],
   "source": [
    "# Mengecek jumlah baris dan kolom dataset setelah dilakukan preparing data \n",
    "hp.shape"
   ]
  },
  {
   "cell_type": "code",
   "execution_count": 18,
   "id": "9b147c36",
   "metadata": {},
   "outputs": [
    {
     "data": {
      "text/plain": [
       "SquareFeet           0\n",
       "Bedrooms             0\n",
       "Bathrooms            0\n",
       "YearBuilt            0\n",
       "YearNow              0\n",
       "Age                  0\n",
       "Age Category         0\n",
       "Neighborhood         0\n",
       "Neighborhood code    0\n",
       "Price                0\n",
       "Price Category       0\n",
       "dtype: int64"
      ]
     },
     "execution_count": 18,
     "metadata": {},
     "output_type": "execute_result"
    }
   ],
   "source": [
    "# Mengecek missing value setelah dilakukan preparing data\n",
    "hp.isnull().sum()\n",
    "# Tidak ada missing values"
   ]
  },
  {
   "cell_type": "markdown",
   "id": "4124a26d",
   "metadata": {},
   "source": [
    "## DATA VISUALIZATION 1\n",
    "Visualisasi di bawah ini menggambarkan korelasi antar 6 atribut numerik dataset Housing Price. Berdasarkan visualisasi tersebut, pembaca dapat mengetahui bahwa atribut SquareFeet memiliki hubungan yang paling kuat dengan Price karena hasil korelasinya sebesar 0.75 yang paling mendekati angka 1 diantara yang lainnya."
   ]
  },
  {
   "cell_type": "code",
   "execution_count": 19,
   "id": "7477ef2c",
   "metadata": {},
   "outputs": [
    {
     "data": {
      "image/png": "[encoded data removed]",
      "text/plain": [
       "<Figure size 640x480 with 2 Axes>"
      ]
     },
     "metadata": {},
     "output_type": "display_data"
    }
   ],
   "source": [
    "sns.heatmap(hp[['SquareFeet','Bedrooms','Bathrooms','Price', 'Age','Neighborhood code']].corr(), annot = True, cmap=\"Spectral\")\n",
    "plt.title(\"Korelasi antar Atribut Numerik\")\n",
    "plt.show()"
   ]
  },
  {
   "cell_type": "markdown",
   "id": "8c6b2e46",
   "metadata": {},
   "source": [
    "### Visualisasi 2\n",
    "Berikut merupakan visualisasi data yang menggambarkan komposisi jumlah rumah yang diwakilkan oleh umur rumah (Age) berdasarkan kategori rumah (Age Category) yang dikelompokkan menjadi 3 bagian. Berdasarkan visualisasi ini, dapat disimpulkan bahwa 33,05% termasuk ke dalam kategori rumah Baru, 33,49% termasuk ke dalam kategori rumah Muda, dan sisanya yang sebesar 33,46% termasuk ke dalam kategori rumah Tua."
   ]
  },
  {
   "cell_type": "code",
   "execution_count": 20,
   "id": "ead087fe",
   "metadata": {},
   "outputs": [
    {
     "data": {
      "text/plain": [
       "Age Category\n",
       "Baru    16523\n",
       "Muda    16745\n",
       "Tua     16732\n",
       "Name: Age, dtype: int64"
      ]
     },
     "execution_count": 20,
     "metadata": {},
     "output_type": "execute_result"
    }
   ],
   "source": [
    "# Detail\n",
    "hp.groupby('Age Category')['Age'].count()"
   ]
  },
  {
   "cell_type": "code",
   "execution_count": 75,
   "id": "529c6afa",
   "metadata": {},
   "outputs": [
    {
     "data": {
      "image/png": "[encoded data removed]",
      "text/plain": [
       "<Figure size 640x480 with 1 Axes>"
      ]
     },
     "metadata": {},
     "output_type": "display_data"
    }
   ],
   "source": [
    "# Menggunakan groupby\n",
    "diff_age = hp.groupby('Age Category')['Age'].count()\n",
    "diff_age.plot.pie(subplots = True, autopct = '%.2f', colors = sns.color_palette('Set2'))\n",
    "plt.title(\"Perbandingan jumlah rumah berdasarkan kategori umur rumah\")\n",
    "plt.show()"
   ]
  },
  {
   "cell_type": "markdown",
   "id": "967fb2bc",
   "metadata": {},
   "source": [
    "### Visualisasi 3\n",
    "Berikut merupakan visualisasi data yang menggambarkan distribusi dari dataset Housing Price. Visualisasi ini menunjukkan bahwa data tidak berdistribusi dengan normal karena terdapat dua puncak dibagian atas bel."
   ]
  },
  {
   "cell_type": "code",
   "execution_count": 22,
   "id": "f6244bac",
   "metadata": {},
   "outputs": [
    {
     "data": {
      "text/plain": [
       "<seaborn.axisgrid.FacetGrid at 0x1e578889a90>"
      ]
     },
     "execution_count": 22,
     "metadata": {},
     "output_type": "execute_result"
    },
    {
     "data": {
      "image/png": "[encoded data removed]",
      "text/plain": [
       "<Figure size 500x500 with 1 Axes>"
      ]
     },
     "metadata": {},
     "output_type": "display_data"
    }
   ],
   "source": [
    "sns.displot(data=hp, x=\"Price\", kind=\"kde\")"
   ]
  },
  {
   "cell_type": "markdown",
   "id": "00aef2a6",
   "metadata": {},
   "source": [
    "### Visualisasi 4\n",
    "Visualisasi dibawah ini merupakan visualisasi dari dataset yang menampilkan data outlier. Visualisasi ini juga merupakan visualisasi dari dataset sebelum dinormalisasikan. Dapat dilihat bahwa sebelum dinormalisasikan, boxplot dari kolom SquareFeet, Bedrooms, Bathrooms, YearBuilt, YearNow, Age, Neighborhood Code, dan Price tidak tampak. Namun, setelah dilakukan normalisasi (divisualisasi selanjutnya), seluruh kolom memiliki boxplot yang terlihat. "
   ]
  },
  {
   "cell_type": "code",
   "execution_count": 23,
   "id": "6f1878bd",
   "metadata": {},
   "outputs": [
    {
     "data": {
      "image/png": "[encoded data removed]",
      "text/plain": [
       "<Figure size 1200x1000 with 1 Axes>"
      ]
     },
     "metadata": {},
     "output_type": "display_data"
    }
   ],
   "source": [
    "# Sebelum Normalisasi\n",
    "colors = sns.color_palette(\"Spectral\")\n",
    "fig, ax = plt.subplots(figsize = (12,10))\n",
    "sns.boxplot(data = hp, palette = colors)\n",
    "plt.title(\"Distribusi Atribut Numerik\")\n",
    "plt.show()"
   ]
  },
  {
   "cell_type": "code",
   "execution_count": 24,
   "id": "1742fc7d",
   "metadata": {},
   "outputs": [
    {
     "data": {
      "text/html": [
       "<div>\n",
       "<style scoped>\n",
       "    .dataframe tbody tr th:only-of-type {\n",
       "        vertical-align: middle;\n",
       "    }\n",
       "\n",
       "    .dataframe tbody tr th {\n",
       "        vertical-align: top;\n",
       "    }\n",
       "\n",
       "    .dataframe thead th {\n",
       "        text-align: right;\n",
       "    }\n",
       "</style>\n",
       "<table border=\"1\" class=\"dataframe\">\n",
       "  <thead>\n",
       "    <tr style=\"text-align: right;\">\n",
       "      <th></th>\n",
       "      <th>SquareFeet</th>\n",
       "      <th>Bedrooms</th>\n",
       "      <th>Bathrooms</th>\n",
       "      <th>YearBuilt</th>\n",
       "      <th>YearNow</th>\n",
       "      <th>Age</th>\n",
       "      <th>Neighborhood code</th>\n",
       "      <th>Price</th>\n",
       "    </tr>\n",
       "  </thead>\n",
       "  <tbody>\n",
       "    <tr>\n",
       "      <th>0</th>\n",
       "      <td>0.207861</td>\n",
       "      <td>0.449067</td>\n",
       "      <td>-1.220113</td>\n",
       "      <td>-0.791751</td>\n",
       "      <td>0</td>\n",
       "      <td>0.791751</td>\n",
       "      <td>-1.223957</td>\n",
       "      <td>-0.124401</td>\n",
       "    </tr>\n",
       "    <tr>\n",
       "      <th>1</th>\n",
       "      <td>0.786480</td>\n",
       "      <td>-0.446738</td>\n",
       "      <td>0.005614</td>\n",
       "      <td>-0.260842</td>\n",
       "      <td>0</td>\n",
       "      <td>0.260842</td>\n",
       "      <td>-1.223957</td>\n",
       "      <td>-0.391551</td>\n",
       "    </tr>\n",
       "    <tr>\n",
       "      <th>2</th>\n",
       "      <td>-0.254340</td>\n",
       "      <td>-1.342543</td>\n",
       "      <td>-1.220113</td>\n",
       "      <td>-0.743486</td>\n",
       "      <td>0</td>\n",
       "      <td>0.743486</td>\n",
       "      <td>0.001790</td>\n",
       "      <td>1.077785</td>\n",
       "    </tr>\n",
       "    <tr>\n",
       "      <th>3</th>\n",
       "      <td>0.499777</td>\n",
       "      <td>-1.342543</td>\n",
       "      <td>-1.220113</td>\n",
       "      <td>0.511390</td>\n",
       "      <td>0</td>\n",
       "      <td>-0.511390</td>\n",
       "      <td>1.227536</td>\n",
       "      <td>-0.236936</td>\n",
       "    </tr>\n",
       "    <tr>\n",
       "      <th>4</th>\n",
       "      <td>0.214811</td>\n",
       "      <td>1.344872</td>\n",
       "      <td>0.005614</td>\n",
       "      <td>0.752713</td>\n",
       "      <td>0</td>\n",
       "      <td>-0.752713</td>\n",
       "      <td>0.001790</td>\n",
       "      <td>0.625272</td>\n",
       "    </tr>\n",
       "  </tbody>\n",
       "</table>\n",
       "</div>"
      ],
      "text/plain": [
       "   SquareFeet  Bedrooms  Bathrooms  YearBuilt  YearNow       Age  \\\n",
       "0    0.207861  0.449067  -1.220113  -0.791751        0  0.791751   \n",
       "1    0.786480 -0.446738   0.005614  -0.260842        0  0.260842   \n",
       "2   -0.254340 -1.342543  -1.220113  -0.743486        0  0.743486   \n",
       "3    0.499777 -1.342543  -1.220113   0.511390        0 -0.511390   \n",
       "4    0.214811  1.344872   0.005614   0.752713        0 -0.752713   \n",
       "\n",
       "   Neighborhood code     Price  \n",
       "0          -1.223957 -0.124401  \n",
       "1          -1.223957 -0.391551  \n",
       "2           0.001790  1.077785  \n",
       "3           1.227536 -0.236936  \n",
       "4           0.001790  0.625272  "
      ]
     },
     "execution_count": 24,
     "metadata": {},
     "output_type": "execute_result"
    }
   ],
   "source": [
    "# Melakukan normalisasi dengan Zscore karena dataset tidak berdistribusi dengan normal. Selain itu, Zscore juga bersifat fleksibel dan cocok dengan dataset yang tidak normal.\n",
    "from sklearn.preprocessing import StandardScaler\n",
    "\n",
    "HPforNorm = hp[['SquareFeet','Bedrooms','Bathrooms', 'YearBuilt', 'YearNow', 'Age', 'Neighborhood code', 'Price']]\n",
    "SSc = StandardScaler()\n",
    "hp_norm = SSc.fit_transform(HPforNorm)\n",
    "for i in range(len(hp_norm)): #data yang sudah dinormalisasikan masuk ke dalam kolomnya masing-masing di HPforNorm\n",
    "    HPforNorm.loc[i, \"SquareFeet\"] = hp_norm[i, 0]\n",
    "    HPforNorm.loc[i, \"Bedrooms\"] = hp_norm[i, 1]\n",
    "    HPforNorm.loc[i, \"Bathrooms\"] = hp_norm[i, 2]\n",
    "    HPforNorm.loc[i, \"YearBuilt\"] = hp_norm[i, 3]\n",
    "    HPforNorm.loc[i, \"YearNow\"] = hp_norm[i, 4]\n",
    "    HPforNorm.loc[i, \"Age\"] = hp_norm[i, 5]\n",
    "    HPforNorm.loc[i, \"Neighborhood code\"] = hp_norm[i, 6]\n",
    "    HPforNorm.loc[i, \"Price\"] = hp_norm[i, 7]\n",
    "    \n",
    "HPforNorm.head()"
   ]
  },
  {
   "cell_type": "code",
   "execution_count": 25,
   "id": "3a103ecd",
   "metadata": {},
   "outputs": [
    {
     "data": {
      "text/plain": [
       "(50000, 8)"
      ]
     },
     "execution_count": 25,
     "metadata": {},
     "output_type": "execute_result"
    }
   ],
   "source": [
    "# Mengecek jumlah baris dan kolom setelah normalisasi\n",
    "HPforNorm.shape"
   ]
  },
  {
   "cell_type": "code",
   "execution_count": 26,
   "id": "19d080c7",
   "metadata": {},
   "outputs": [
    {
     "data": {
      "text/html": [
       "<div>\n",
       "<style scoped>\n",
       "    .dataframe tbody tr th:only-of-type {\n",
       "        vertical-align: middle;\n",
       "    }\n",
       "\n",
       "    .dataframe tbody tr th {\n",
       "        vertical-align: top;\n",
       "    }\n",
       "\n",
       "    .dataframe thead th {\n",
       "        text-align: right;\n",
       "    }\n",
       "</style>\n",
       "<table border=\"1\" class=\"dataframe\">\n",
       "  <thead>\n",
       "    <tr style=\"text-align: right;\">\n",
       "      <th></th>\n",
       "      <th>SquareFeet</th>\n",
       "      <th>Bedrooms</th>\n",
       "      <th>Bathrooms</th>\n",
       "      <th>YearBuilt</th>\n",
       "      <th>YearNow</th>\n",
       "      <th>Age</th>\n",
       "      <th>Neighborhood code</th>\n",
       "      <th>Price</th>\n",
       "      <th>Age Category</th>\n",
       "      <th>Neighborhood</th>\n",
       "      <th>Price Category</th>\n",
       "    </tr>\n",
       "  </thead>\n",
       "  <tbody>\n",
       "    <tr>\n",
       "      <th>0</th>\n",
       "      <td>0.207861</td>\n",
       "      <td>0.449067</td>\n",
       "      <td>-1.220113</td>\n",
       "      <td>-0.791751</td>\n",
       "      <td>0</td>\n",
       "      <td>0.791751</td>\n",
       "      <td>-1.223957</td>\n",
       "      <td>-0.124401</td>\n",
       "      <td>Tua</td>\n",
       "      <td>Rural</td>\n",
       "      <td>murah</td>\n",
       "    </tr>\n",
       "    <tr>\n",
       "      <th>1</th>\n",
       "      <td>0.786480</td>\n",
       "      <td>-0.446738</td>\n",
       "      <td>0.005614</td>\n",
       "      <td>-0.260842</td>\n",
       "      <td>0</td>\n",
       "      <td>0.260842</td>\n",
       "      <td>-1.223957</td>\n",
       "      <td>-0.391551</td>\n",
       "      <td>Muda</td>\n",
       "      <td>Rural</td>\n",
       "      <td>murah</td>\n",
       "    </tr>\n",
       "    <tr>\n",
       "      <th>2</th>\n",
       "      <td>-0.254340</td>\n",
       "      <td>-1.342543</td>\n",
       "      <td>-1.220113</td>\n",
       "      <td>-0.743486</td>\n",
       "      <td>0</td>\n",
       "      <td>0.743486</td>\n",
       "      <td>0.001790</td>\n",
       "      <td>1.077785</td>\n",
       "      <td>Tua</td>\n",
       "      <td>Suburb</td>\n",
       "      <td>mahal</td>\n",
       "    </tr>\n",
       "    <tr>\n",
       "      <th>3</th>\n",
       "      <td>0.499777</td>\n",
       "      <td>-1.342543</td>\n",
       "      <td>-1.220113</td>\n",
       "      <td>0.511390</td>\n",
       "      <td>0</td>\n",
       "      <td>-0.511390</td>\n",
       "      <td>1.227536</td>\n",
       "      <td>-0.236936</td>\n",
       "      <td>Muda</td>\n",
       "      <td>Urban</td>\n",
       "      <td>murah</td>\n",
       "    </tr>\n",
       "    <tr>\n",
       "      <th>4</th>\n",
       "      <td>0.214811</td>\n",
       "      <td>1.344872</td>\n",
       "      <td>0.005614</td>\n",
       "      <td>0.752713</td>\n",
       "      <td>0</td>\n",
       "      <td>-0.752713</td>\n",
       "      <td>0.001790</td>\n",
       "      <td>0.625272</td>\n",
       "      <td>Baru</td>\n",
       "      <td>Suburb</td>\n",
       "      <td>mahal</td>\n",
       "    </tr>\n",
       "  </tbody>\n",
       "</table>\n",
       "</div>"
      ],
      "text/plain": [
       "   SquareFeet  Bedrooms  Bathrooms  YearBuilt  YearNow       Age  \\\n",
       "0    0.207861  0.449067  -1.220113  -0.791751        0  0.791751   \n",
       "1    0.786480 -0.446738   0.005614  -0.260842        0  0.260842   \n",
       "2   -0.254340 -1.342543  -1.220113  -0.743486        0  0.743486   \n",
       "3    0.499777 -1.342543  -1.220113   0.511390        0 -0.511390   \n",
       "4    0.214811  1.344872   0.005614   0.752713        0 -0.752713   \n",
       "\n",
       "   Neighborhood code     Price Age Category Neighborhood Price Category  \n",
       "0          -1.223957 -0.124401          Tua        Rural          murah  \n",
       "1          -1.223957 -0.391551         Muda        Rural          murah  \n",
       "2           0.001790  1.077785          Tua       Suburb          mahal  \n",
       "3           1.227536 -0.236936         Muda        Urban          murah  \n",
       "4           0.001790  0.625272         Baru       Suburb          mahal  "
      ]
     },
     "execution_count": 26,
     "metadata": {},
     "output_type": "execute_result"
    }
   ],
   "source": [
    "# Menggabungkan kolom Neighborhood ke dalam HP bersama dengan data dari HPforNorm\n",
    "HP = pd.concat([HPforNorm, hp[['Age Category','Neighborhood','Price Category']]], axis = 1 )\n",
    "HP.head()"
   ]
  },
  {
   "cell_type": "code",
   "execution_count": 27,
   "id": "b8f7a533",
   "metadata": {},
   "outputs": [
    {
     "data": {
      "text/html": [
       "<div>\n",
       "<style scoped>\n",
       "    .dataframe tbody tr th:only-of-type {\n",
       "        vertical-align: middle;\n",
       "    }\n",
       "\n",
       "    .dataframe tbody tr th {\n",
       "        vertical-align: top;\n",
       "    }\n",
       "\n",
       "    .dataframe thead th {\n",
       "        text-align: right;\n",
       "    }\n",
       "</style>\n",
       "<table border=\"1\" class=\"dataframe\">\n",
       "  <thead>\n",
       "    <tr style=\"text-align: right;\">\n",
       "      <th></th>\n",
       "      <th>SquareFeet</th>\n",
       "      <th>Bedrooms</th>\n",
       "      <th>Bathrooms</th>\n",
       "      <th>YearBuilt</th>\n",
       "      <th>YearNow</th>\n",
       "      <th>Age</th>\n",
       "      <th>Age Category</th>\n",
       "      <th>Neighborhood</th>\n",
       "      <th>Neighborhood code</th>\n",
       "      <th>Price</th>\n",
       "      <th>Price Category</th>\n",
       "    </tr>\n",
       "  </thead>\n",
       "  <tbody>\n",
       "    <tr>\n",
       "      <th>0</th>\n",
       "      <td>0.207861</td>\n",
       "      <td>0.449067</td>\n",
       "      <td>-1.220113</td>\n",
       "      <td>-0.791751</td>\n",
       "      <td>0</td>\n",
       "      <td>0.791751</td>\n",
       "      <td>Tua</td>\n",
       "      <td>Rural</td>\n",
       "      <td>-1.223957</td>\n",
       "      <td>-0.124401</td>\n",
       "      <td>murah</td>\n",
       "    </tr>\n",
       "    <tr>\n",
       "      <th>1</th>\n",
       "      <td>0.786480</td>\n",
       "      <td>-0.446738</td>\n",
       "      <td>0.005614</td>\n",
       "      <td>-0.260842</td>\n",
       "      <td>0</td>\n",
       "      <td>0.260842</td>\n",
       "      <td>Muda</td>\n",
       "      <td>Rural</td>\n",
       "      <td>-1.223957</td>\n",
       "      <td>-0.391551</td>\n",
       "      <td>murah</td>\n",
       "    </tr>\n",
       "    <tr>\n",
       "      <th>2</th>\n",
       "      <td>-0.254340</td>\n",
       "      <td>-1.342543</td>\n",
       "      <td>-1.220113</td>\n",
       "      <td>-0.743486</td>\n",
       "      <td>0</td>\n",
       "      <td>0.743486</td>\n",
       "      <td>Tua</td>\n",
       "      <td>Suburb</td>\n",
       "      <td>0.001790</td>\n",
       "      <td>1.077785</td>\n",
       "      <td>mahal</td>\n",
       "    </tr>\n",
       "    <tr>\n",
       "      <th>3</th>\n",
       "      <td>0.499777</td>\n",
       "      <td>-1.342543</td>\n",
       "      <td>-1.220113</td>\n",
       "      <td>0.511390</td>\n",
       "      <td>0</td>\n",
       "      <td>-0.511390</td>\n",
       "      <td>Muda</td>\n",
       "      <td>Urban</td>\n",
       "      <td>1.227536</td>\n",
       "      <td>-0.236936</td>\n",
       "      <td>murah</td>\n",
       "    </tr>\n",
       "    <tr>\n",
       "      <th>4</th>\n",
       "      <td>0.214811</td>\n",
       "      <td>1.344872</td>\n",
       "      <td>0.005614</td>\n",
       "      <td>0.752713</td>\n",
       "      <td>0</td>\n",
       "      <td>-0.752713</td>\n",
       "      <td>Baru</td>\n",
       "      <td>Suburb</td>\n",
       "      <td>0.001790</td>\n",
       "      <td>0.625272</td>\n",
       "      <td>mahal</td>\n",
       "    </tr>\n",
       "  </tbody>\n",
       "</table>\n",
       "</div>"
      ],
      "text/plain": [
       "   SquareFeet  Bedrooms  Bathrooms  YearBuilt  YearNow       Age Age Category  \\\n",
       "0    0.207861  0.449067  -1.220113  -0.791751        0  0.791751          Tua   \n",
       "1    0.786480 -0.446738   0.005614  -0.260842        0  0.260842         Muda   \n",
       "2   -0.254340 -1.342543  -1.220113  -0.743486        0  0.743486          Tua   \n",
       "3    0.499777 -1.342543  -1.220113   0.511390        0 -0.511390         Muda   \n",
       "4    0.214811  1.344872   0.005614   0.752713        0 -0.752713         Baru   \n",
       "\n",
       "  Neighborhood  Neighborhood code     Price Price Category  \n",
       "0        Rural          -1.223957 -0.124401          murah  \n",
       "1        Rural          -1.223957 -0.391551          murah  \n",
       "2       Suburb           0.001790  1.077785          mahal  \n",
       "3        Urban           1.227536 -0.236936          murah  \n",
       "4       Suburb           0.001790  0.625272          mahal  "
      ]
     },
     "execution_count": 27,
     "metadata": {},
     "output_type": "execute_result"
    }
   ],
   "source": [
    "# Mengubah urutan kolom\n",
    "HP = HP[['SquareFeet','Bedrooms','Bathrooms','YearBuilt', 'YearNow', 'Age', 'Age Category', 'Neighborhood','Neighborhood code','Price','Price Category']]\n",
    "HP.head()"
   ]
  },
  {
   "cell_type": "code",
   "execution_count": 28,
   "id": "30aac157",
   "metadata": {},
   "outputs": [
    {
     "data": {
      "text/plain": [
       "(50000, 11)"
      ]
     },
     "execution_count": 28,
     "metadata": {},
     "output_type": "execute_result"
    }
   ],
   "source": [
    "# Mengecek ulang jumlah baris dan kolom setelah menggabungkan neighborhood\n",
    "HP.shape"
   ]
  },
  {
   "cell_type": "markdown",
   "id": "138b65bb",
   "metadata": {},
   "source": [
    "### Visualisasi 5\n",
    "Visualisasi berikut menampilkan bopxlot seluruh kolom dan kolom Price bersama dengan outliernya. Visualisasi ini merupakan visualisasi setelah dilakukan normalisasi."
   ]
  },
  {
   "cell_type": "code",
   "execution_count": 29,
   "id": "833865b2",
   "metadata": {},
   "outputs": [
    {
     "data": {
      "image/png": "[encoded data removed]",
      "text/plain": [
       "<Figure size 1000x1200 with 1 Axes>"
      ]
     },
     "metadata": {},
     "output_type": "display_data"
    }
   ],
   "source": [
    "colors = sns.color_palette(\"Spectral\")\n",
    "fig, ax = plt.subplots(figsize = (10,12))\n",
    "sns.boxplot(data = HP, palette = colors)\n",
    "plt.title(\"Distribusi Atribut Numerik\")\n",
    "plt.show()"
   ]
  },
  {
   "cell_type": "markdown",
   "id": "3a9dd5aa",
   "metadata": {},
   "source": [
    "Price memiliki data yang outlier. Berbeda dengan 7 kolom numerik lainnya yang tidak memiliki data yang outlier."
   ]
  },
  {
   "cell_type": "code",
   "execution_count": 30,
   "id": "d783d0cf",
   "metadata": {},
   "outputs": [
    {
     "data": {
      "text/plain": [
       "(49941, 11)"
      ]
     },
     "execution_count": 30,
     "metadata": {},
     "output_type": "execute_result"
    }
   ],
   "source": [
    "# Penanganan Outlier dengan menggunakan IQR\n",
    "Q1 = HP[\"Price\"].quantile(0.25) # mencari Q1\n",
    "Q3 = HP[\"Price\"].quantile(0.75) # mencari Q3\n",
    "IQR = Q3 - Q1  # mencari IQR\n",
    "\n",
    "# data outlier\n",
    "outlier_indices = HP[((HP[\"Price\"] < (Q1-1.5*IQR)) | (HP[\"Price\"] > (Q3+1.5*IQR)))].index\n",
    "\n",
    "# menghapus row data yang outlier\n",
    "HP.drop(outlier_indices, inplace=True)\n",
    "\n",
    "# menampilkan jumlah baris dan kolom HP yang sudah bersih\n",
    "HP.shape "
   ]
  },
  {
   "cell_type": "code",
   "execution_count": 31,
   "id": "e7864890",
   "metadata": {},
   "outputs": [
    {
     "data": {
      "text/html": [
       "<div>\n",
       "<style scoped>\n",
       "    .dataframe tbody tr th:only-of-type {\n",
       "        vertical-align: middle;\n",
       "    }\n",
       "\n",
       "    .dataframe tbody tr th {\n",
       "        vertical-align: top;\n",
       "    }\n",
       "\n",
       "    .dataframe thead th {\n",
       "        text-align: right;\n",
       "    }\n",
       "</style>\n",
       "<table border=\"1\" class=\"dataframe\">\n",
       "  <thead>\n",
       "    <tr style=\"text-align: right;\">\n",
       "      <th></th>\n",
       "      <th>SquareFeet</th>\n",
       "      <th>Bedrooms</th>\n",
       "      <th>Bathrooms</th>\n",
       "      <th>YearBuilt</th>\n",
       "      <th>YearNow</th>\n",
       "      <th>Age</th>\n",
       "      <th>Age Category</th>\n",
       "      <th>Neighborhood</th>\n",
       "      <th>Neighborhood code</th>\n",
       "      <th>Price</th>\n",
       "      <th>Price Category</th>\n",
       "    </tr>\n",
       "  </thead>\n",
       "  <tbody>\n",
       "    <tr>\n",
       "      <th>0</th>\n",
       "      <td>0.207861</td>\n",
       "      <td>0.449067</td>\n",
       "      <td>-1.220113</td>\n",
       "      <td>-0.791751</td>\n",
       "      <td>0</td>\n",
       "      <td>0.791751</td>\n",
       "      <td>Tua</td>\n",
       "      <td>Rural</td>\n",
       "      <td>-1.223957</td>\n",
       "      <td>-0.124401</td>\n",
       "      <td>murah</td>\n",
       "    </tr>\n",
       "    <tr>\n",
       "      <th>1</th>\n",
       "      <td>0.786480</td>\n",
       "      <td>-0.446738</td>\n",
       "      <td>0.005614</td>\n",
       "      <td>-0.260842</td>\n",
       "      <td>0</td>\n",
       "      <td>0.260842</td>\n",
       "      <td>Muda</td>\n",
       "      <td>Rural</td>\n",
       "      <td>-1.223957</td>\n",
       "      <td>-0.391551</td>\n",
       "      <td>murah</td>\n",
       "    </tr>\n",
       "    <tr>\n",
       "      <th>2</th>\n",
       "      <td>-0.254340</td>\n",
       "      <td>-1.342543</td>\n",
       "      <td>-1.220113</td>\n",
       "      <td>-0.743486</td>\n",
       "      <td>0</td>\n",
       "      <td>0.743486</td>\n",
       "      <td>Tua</td>\n",
       "      <td>Suburb</td>\n",
       "      <td>0.001790</td>\n",
       "      <td>1.077785</td>\n",
       "      <td>mahal</td>\n",
       "    </tr>\n",
       "    <tr>\n",
       "      <th>3</th>\n",
       "      <td>0.499777</td>\n",
       "      <td>-1.342543</td>\n",
       "      <td>-1.220113</td>\n",
       "      <td>0.511390</td>\n",
       "      <td>0</td>\n",
       "      <td>-0.511390</td>\n",
       "      <td>Muda</td>\n",
       "      <td>Urban</td>\n",
       "      <td>1.227536</td>\n",
       "      <td>-0.236936</td>\n",
       "      <td>murah</td>\n",
       "    </tr>\n",
       "    <tr>\n",
       "      <th>4</th>\n",
       "      <td>0.214811</td>\n",
       "      <td>1.344872</td>\n",
       "      <td>0.005614</td>\n",
       "      <td>0.752713</td>\n",
       "      <td>0</td>\n",
       "      <td>-0.752713</td>\n",
       "      <td>Baru</td>\n",
       "      <td>Suburb</td>\n",
       "      <td>0.001790</td>\n",
       "      <td>0.625272</td>\n",
       "      <td>mahal</td>\n",
       "    </tr>\n",
       "    <tr>\n",
       "      <th>...</th>\n",
       "      <td>...</td>\n",
       "      <td>...</td>\n",
       "      <td>...</td>\n",
       "      <td>...</td>\n",
       "      <td>...</td>\n",
       "      <td>...</td>\n",
       "      <td>...</td>\n",
       "      <td>...</td>\n",
       "      <td>...</td>\n",
       "      <td>...</td>\n",
       "      <td>...</td>\n",
       "    </tr>\n",
       "    <tr>\n",
       "      <th>49995</th>\n",
       "      <td>-1.258671</td>\n",
       "      <td>1.344872</td>\n",
       "      <td>1.231341</td>\n",
       "      <td>-0.502164</td>\n",
       "      <td>0</td>\n",
       "      <td>0.502164</td>\n",
       "      <td>Muda</td>\n",
       "      <td>Rural</td>\n",
       "      <td>-1.223957</td>\n",
       "      <td>-1.638359</td>\n",
       "      <td>murah</td>\n",
       "    </tr>\n",
       "    <tr>\n",
       "      <th>49996</th>\n",
       "      <td>1.472831</td>\n",
       "      <td>-1.342543</td>\n",
       "      <td>0.005614</td>\n",
       "      <td>0.125274</td>\n",
       "      <td>0</td>\n",
       "      <td>-0.125274</td>\n",
       "      <td>Muda</td>\n",
       "      <td>Suburb</td>\n",
       "      <td>0.001790</td>\n",
       "      <td>1.965829</td>\n",
       "      <td>mahal</td>\n",
       "    </tr>\n",
       "    <tr>\n",
       "      <th>49997</th>\n",
       "      <td>1.690031</td>\n",
       "      <td>1.344872</td>\n",
       "      <td>1.231341</td>\n",
       "      <td>-1.129602</td>\n",
       "      <td>0</td>\n",
       "      <td>1.129602</td>\n",
       "      <td>Tua</td>\n",
       "      <td>Suburb</td>\n",
       "      <td>0.001790</td>\n",
       "      <td>2.091949</td>\n",
       "      <td>mahal</td>\n",
       "    </tr>\n",
       "    <tr>\n",
       "      <th>49998</th>\n",
       "      <td>1.024531</td>\n",
       "      <td>1.344872</td>\n",
       "      <td>0.005614</td>\n",
       "      <td>-0.067784</td>\n",
       "      <td>0</td>\n",
       "      <td>0.067784</td>\n",
       "      <td>Muda</td>\n",
       "      <td>Rural</td>\n",
       "      <td>-1.223957</td>\n",
       "      <td>2.044696</td>\n",
       "      <td>mahal</td>\n",
       "    </tr>\n",
       "    <tr>\n",
       "      <th>49999</th>\n",
       "      <td>-0.754768</td>\n",
       "      <td>1.344872</td>\n",
       "      <td>1.231341</td>\n",
       "      <td>1.235357</td>\n",
       "      <td>0</td>\n",
       "      <td>-1.235357</td>\n",
       "      <td>Baru</td>\n",
       "      <td>Rural</td>\n",
       "      <td>-1.223957</td>\n",
       "      <td>-0.042142</td>\n",
       "      <td>murah</td>\n",
       "    </tr>\n",
       "  </tbody>\n",
       "</table>\n",
       "<p>49941 rows × 11 columns</p>\n",
       "</div>"
      ],
      "text/plain": [
       "       SquareFeet  Bedrooms  Bathrooms  YearBuilt  YearNow       Age  \\\n",
       "0        0.207861  0.449067  -1.220113  -0.791751        0  0.791751   \n",
       "1        0.786480 -0.446738   0.005614  -0.260842        0  0.260842   \n",
       "2       -0.254340 -1.342543  -1.220113  -0.743486        0  0.743486   \n",
       "3        0.499777 -1.342543  -1.220113   0.511390        0 -0.511390   \n",
       "4        0.214811  1.344872   0.005614   0.752713        0 -0.752713   \n",
       "...           ...       ...        ...        ...      ...       ...   \n",
       "49995   -1.258671  1.344872   1.231341  -0.502164        0  0.502164   \n",
       "49996    1.472831 -1.342543   0.005614   0.125274        0 -0.125274   \n",
       "49997    1.690031  1.344872   1.231341  -1.129602        0  1.129602   \n",
       "49998    1.024531  1.344872   0.005614  -0.067784        0  0.067784   \n",
       "49999   -0.754768  1.344872   1.231341   1.235357        0 -1.235357   \n",
       "\n",
       "      Age Category Neighborhood  Neighborhood code     Price Price Category  \n",
       "0              Tua        Rural          -1.223957 -0.124401          murah  \n",
       "1             Muda        Rural          -1.223957 -0.391551          murah  \n",
       "2              Tua       Suburb           0.001790  1.077785          mahal  \n",
       "3             Muda        Urban           1.227536 -0.236936          murah  \n",
       "4             Baru       Suburb           0.001790  0.625272          mahal  \n",
       "...            ...          ...                ...       ...            ...  \n",
       "49995         Muda        Rural          -1.223957 -1.638359          murah  \n",
       "49996         Muda       Suburb           0.001790  1.965829          mahal  \n",
       "49997          Tua       Suburb           0.001790  2.091949          mahal  \n",
       "49998         Muda        Rural          -1.223957  2.044696          mahal  \n",
       "49999         Baru        Rural          -1.223957 -0.042142          murah  \n",
       "\n",
       "[49941 rows x 11 columns]"
      ]
     },
     "execution_count": 31,
     "metadata": {},
     "output_type": "execute_result"
    }
   ],
   "source": [
    "# menampilkan data HP\n",
    "HP"
   ]
  },
  {
   "cell_type": "markdown",
   "id": "79b09f48",
   "metadata": {},
   "source": [
    "### Visualisasi 6\n",
    "Berikut merupakan visualisasi setelah dilakukan normalisasi dan penanganan outliers."
   ]
  },
  {
   "cell_type": "code",
   "execution_count": 32,
   "id": "b641edfd",
   "metadata": {},
   "outputs": [
    {
     "data": {
      "image/png": "[encoded data removed]",
      "text/plain": [
       "<Figure size 1000x1200 with 1 Axes>"
      ]
     },
     "metadata": {},
     "output_type": "display_data"
    }
   ],
   "source": [
    "# Setelah handling outliers\n",
    "colors = sns.color_palette(\"Spectral\")\n",
    "fig, ax = plt.subplots(figsize = (10,12))\n",
    "sns.boxplot(data = HP, palette = colors)\n",
    "plt.title(\"Distribusi Atribut Numerik\")\n",
    "plt.show()"
   ]
  },
  {
   "cell_type": "markdown",
   "id": "5bcfface",
   "metadata": {},
   "source": [
    "### Machine Learning : Regression"
   ]
  },
  {
   "cell_type": "markdown",
   "id": "0ff75e11",
   "metadata": {},
   "source": [
    "##### menggunakan regresi sebagai machine learning model untuk memprediksi data dari variabel dependen dan independen berdasarkan dataset."
   ]
  },
  {
   "cell_type": "markdown",
   "id": "ba5cd2b0",
   "metadata": {},
   "source": [
    "### Algoritma Simple Regression Model"
   ]
  },
  {
   "cell_type": "code",
   "execution_count": 33,
   "id": "4b6612eb",
   "metadata": {},
   "outputs": [],
   "source": [
    "msk = np.random.rand(len(HP))<0.8 # nilai ambang batas\n",
    "train = HP[msk] # untuk melatih model ML 80%\n",
    "test = HP[~msk] # untuk evaluasi model ML 20%"
   ]
  },
  {
   "cell_type": "markdown",
   "id": "65bfad91",
   "metadata": {},
   "source": [
    "### Visualisasi 7\n",
    "Visualisasi ini menggunakan scatter plot untuk melihat korelasi antara values SquareFeet dengan Price."
   ]
  },
  {
   "cell_type": "code",
   "execution_count": 34,
   "id": "6bc11040",
   "metadata": {},
   "outputs": [
    {
     "data": {
      "image/png": "[encoded data removed]",
      "text/plain": [
       "<Figure size 640x480 with 1 Axes>"
      ]
     },
     "metadata": {},
     "output_type": "display_data"
    }
   ],
   "source": [
    "plt.scatter(train['SquareFeet'],train['Price'], color='blue')\n",
    "plt.xlabel('SquareFeet')\n",
    "plt.ylabel('Price')\n",
    "plt.show()"
   ]
  },
  {
   "cell_type": "code",
   "execution_count": 35,
   "id": "a30ddafd",
   "metadata": {},
   "outputs": [
    {
     "name": "stdout",
     "output_type": "stream",
     "text": [
      "Coefficients: [[0.74683489]]\n",
      "Intercept:  [0.00017118]\n"
     ]
    }
   ],
   "source": [
    "# modeling\n",
    "from sklearn import linear_model\n",
    "regr = linear_model.LinearRegression()\n",
    "train_x = np.asanyarray(train[['SquareFeet']])\n",
    "train_y = np.asanyarray(train[['Price']])\n",
    "regr.fit(train_x,train_y)\n",
    "print('Coefficients:', regr.coef_)\n",
    "print('Intercept: ', regr.intercept_)"
   ]
  },
  {
   "cell_type": "markdown",
   "id": "e2da94b9",
   "metadata": {},
   "source": [
    "### Visualisasi 8\n",
    "Hasil visualisasi dari simple regression line model adalah positive."
   ]
  },
  {
   "cell_type": "code",
   "execution_count": 36,
   "id": "2304b50c",
   "metadata": {},
   "outputs": [
    {
     "data": {
      "image/png": "[encoded data removed]",
      "text/plain": [
       "<Figure size 640x480 with 1 Axes>"
      ]
     },
     "metadata": {},
     "output_type": "display_data"
    }
   ],
   "source": [
    "# plot output\n",
    "plt.scatter(train['SquareFeet'],train['Price'], color='blue')\n",
    "plt.plot(train_x, regr.coef_[0][0]*train_x+regr.intercept_[0], '-r')\n",
    "plt.xlabel('SquareFeet')\n",
    "plt.ylabel('Price')\n",
    "plt.show()"
   ]
  },
  {
   "cell_type": "markdown",
   "id": "ff083619",
   "metadata": {},
   "source": [
    "##### Teknik Evaluasi Algoritma Simple Regression Model"
   ]
  },
  {
   "cell_type": "code",
   "execution_count": 37,
   "id": "2c7540c9",
   "metadata": {},
   "outputs": [
    {
     "name": "stdout",
     "output_type": "stream",
     "text": [
      "Mean absoulute error: 0.52\n",
      "Residual sum of squares (MSE): 0.43\n",
      "R2-score: 0.57\n"
     ]
    }
   ],
   "source": [
    "# EVALUATION\n",
    "\n",
    "from sklearn.metrics import r2_score\n",
    "\n",
    "test_x = np.asanyarray(test[['SquareFeet']])\n",
    "test_y = np.asanyarray(test[['Price']])\n",
    "test_y_= regr.predict(test_x)\n",
    "\n",
    "print('Mean absoulute error: %.2f' % np.mean(np.absolute(test_y_ - test_y)))\n",
    "print('Residual sum of squares (MSE): %.2f' % np.mean((test_y_ - test_y) ** 2))\n",
    "print(\"R2-score: %.2f\" % r2_score(test_y,test_y_))"
   ]
  },
  {
   "cell_type": "markdown",
   "id": "048d31e8",
   "metadata": {},
   "source": [
    "Kesimpulan :\n",
    "1. Nilai MAE yang rendah (0.52), berarti model dapat memprediksi harga rumah dengan akurat\n",
    "2. Nilai RMSE yang rendah (0.43), berarti model tidak membuat kesalahan yang besar\n",
    "3. Nilai R-squared yang tinggi (0.57), berarti model dapat menjelaskan varians variabel dependen dengan baik\n",
    "4. Hasil evaluasi, cukup baik karena data MAE dan RMSE cenderung renah dan nilai R-Squared yang tinggi."
   ]
  },
  {
   "cell_type": "markdown",
   "id": "c87a72bb",
   "metadata": {},
   "source": [
    "##### Uji Coba Prediksi Data Lain :\n",
    "Data :\n",
    "Beverly ingin memprediksi harga rumah impian dengan kriteria berikut :\n",
    "1. SquareFeet = 1800\n",
    "2. Bedrooms = 4\n",
    "3. Bathrooms = 2\n",
    "4. Age = 10\n",
    "\n",
    "Maka, berikut penyelesaiannya"
   ]
  },
  {
   "cell_type": "code",
   "execution_count": 38,
   "id": "c1fb013b",
   "metadata": {},
   "outputs": [],
   "source": [
    "y_pred = regr.predict(train_x)"
   ]
  },
  {
   "cell_type": "code",
   "execution_count": 39,
   "id": "4446f8cd",
   "metadata": {},
   "outputs": [
    {
     "data": {
      "text/plain": [
       "0.5611033495026813"
      ]
     },
     "execution_count": 39,
     "metadata": {},
     "output_type": "execute_result"
    }
   ],
   "source": [
    "# Skor akurasi model sebesar 56,11% berdasarkan Simple Regression yang sudah dilakukan\n",
    "regr.score(train_x, train_y)"
   ]
  },
  {
   "cell_type": "code",
   "execution_count": 40,
   "id": "082793f0",
   "metadata": {},
   "outputs": [
    {
     "data": {
      "text/plain": [
       "array([[1344.30298108]])"
      ]
     },
     "execution_count": 40,
     "metadata": {},
     "output_type": "execute_result"
    }
   ],
   "source": [
    "# Prediksi harga rumah impian Beverly\n",
    "regr.predict([[1800]])"
   ]
  },
  {
   "cell_type": "markdown",
   "id": "6b237ec9",
   "metadata": {},
   "source": [
    "Berdasarkan hasil Simple Regression Model tersebut, dapat diketahui bahwa harga rumah impian Beverly adalah sekita 1344.30US$."
   ]
  },
  {
   "cell_type": "markdown",
   "id": "73fbc659",
   "metadata": {},
   "source": [
    "### Multiple Regression Model"
   ]
  },
  {
   "cell_type": "code",
   "execution_count": 41,
   "id": "efa56b21",
   "metadata": {},
   "outputs": [
    {
     "name": "stdout",
     "output_type": "stream",
     "text": [
      "Coefficients:  [[0.74718649 0.07335981 0.03021329 0.0029526 ]]\n",
      "Intercept:  [-2.64785896e-05]\n"
     ]
    }
   ],
   "source": [
    "from sklearn import linear_model\n",
    "regr = linear_model.LinearRegression()\n",
    "x = np.asanyarray(train[['SquareFeet', 'Bedrooms', 'Bathrooms','Age']])\n",
    "y = np.asanyarray(train[['Price']])\n",
    "regr.fit(x,y)\n",
    "\n",
    "print('Coefficients: ', regr.coef_)\n",
    "print('Intercept: ',regr.intercept_)"
   ]
  },
  {
   "cell_type": "code",
   "execution_count": 42,
   "id": "804ba10a",
   "metadata": {},
   "outputs": [
    {
     "data": {
      "image/png": "[encoded data removed]",
      "text/plain": [
       "<Figure size 640x480 with 1 Axes>"
      ]
     },
     "metadata": {},
     "output_type": "display_data"
    }
   ],
   "source": [
    "# Visualisasi Hasil Plot Bedrooms yang positive\n",
    "plt.scatter(train['Bedrooms'],train['Price'], color='yellow')\n",
    "plt.plot(train_x, regr.coef_[0][0]*train_x+regr.intercept_[0], '-r')\n",
    "plt.xlabel('Bedrooms')\n",
    "plt.ylabel('Price')\n",
    "plt.show()"
   ]
  },
  {
   "cell_type": "code",
   "execution_count": 43,
   "id": "2697422e",
   "metadata": {},
   "outputs": [
    {
     "data": {
      "image/png": "[encoded data removed]",
      "text/plain": [
       "<Figure size 640x480 with 1 Axes>"
      ]
     },
     "metadata": {},
     "output_type": "display_data"
    }
   ],
   "source": [
    "# Visualisasi Hasil Plot Bathrooms yang positive\n",
    "plt.scatter(train['Bathrooms'],train['Price'], color='pink')\n",
    "plt.plot(train_x, regr.coef_[0][0]*train_x+regr.intercept_[0], '-r')\n",
    "plt.xlabel('Bathrooms')\n",
    "plt.ylabel('Price')\n",
    "plt.show()"
   ]
  },
  {
   "cell_type": "code",
   "execution_count": 44,
   "id": "20c98b5f",
   "metadata": {},
   "outputs": [
    {
     "data": {
      "image/png": "[encoded data removed]",
      "text/plain": [
       "<Figure size 640x480 with 1 Axes>"
      ]
     },
     "metadata": {},
     "output_type": "display_data"
    }
   ],
   "source": [
    "# Visualisasi Hasil Plot YearBuilt yang positive\n",
    "plt.scatter(train['Age'],train['Price'], color='purple')\n",
    "plt.plot(train_x, regr.coef_[0][0]*train_x+regr.intercept_[0], '-r')\n",
    "plt.xlabel('Age')\n",
    "plt.ylabel('Price')\n",
    "plt.show()"
   ]
  },
  {
   "cell_type": "markdown",
   "id": "93b75d16",
   "metadata": {},
   "source": [
    "##### Teknik Evaluasi Algoritma Multiple Regression Model"
   ]
  },
  {
   "cell_type": "code",
   "execution_count": 45,
   "id": "b10bbebd",
   "metadata": {
    "scrolled": true
   },
   "outputs": [
    {
     "name": "stdout",
     "output_type": "stream",
     "text": [
      "Residual sum of squares: 0.42\n",
      "R2-score: 0.58\n",
      "Mean absoulute error: 0.52\n"
     ]
    },
    {
     "name": "stderr",
     "output_type": "stream",
     "text": [
      "C:\\Users\\cathe\\anaconda3\\Lib\\site-packages\\sklearn\\base.py:457: UserWarning: X has feature names, but LinearRegression was fitted without feature names\n",
      "  warnings.warn(\n"
     ]
    }
   ],
   "source": [
    "# EVALUATION\n",
    "y_hat = regr.predict(test[['SquareFeet', 'Bedrooms', 'Bathrooms','Age']]) \n",
    "x = np.asanyarray(test[['SquareFeet', 'Bedrooms', 'Bathrooms','Age']]) \n",
    "y = np.asanyarray(test[['Price']]) \n",
    "\n",
    "print(\"Residual sum of squares: %.2f\" % np.mean((y_hat - y) ** 2))\n",
    "print(\"R2-score: %.2f\" % r2_score(y, y_hat))\n",
    "print('Mean absoulute error: %.2f' % np.mean(np.absolute(y_hat - y)))"
   ]
  },
  {
   "cell_type": "markdown",
   "id": "b987d3fb",
   "metadata": {},
   "source": [
    "Kesimpulan :\n",
    "1. Nilai MAE yang rendah (0.52), berarti model dapat memprediksi harga rumah dengan akurat\n",
    "2. Nilai RMSE yang rendah (0.42), berarti model tidak membuat kesalahan yang besar\n",
    "3. Nilai R-squared yang tinggi (0.58), berarti model dapat menjelaskan varians variabel dependen dengan baik\n",
    "4. Hasil evaluasi, cukup baik karena data MAE dan RMSE cenderung renah dan nilai R-Squared yang tinggi."
   ]
  },
  {
   "cell_type": "markdown",
   "id": "5b5e5f93",
   "metadata": {},
   "source": [
    "##### Uji Coba Prediksi Data Lain :\n",
    "Data :\n",
    "Beverly ingin memprediksi harga rumah impian dengan kriteria berikut :\n",
    "1. SquareFeet = 1800\n",
    "2. Bedrooms = 4\n",
    "3. Bathrooms = 2\n",
    "4. Age = 10\n",
    "\n",
    "Maka, berikut penyelesaiannya"
   ]
  },
  {
   "cell_type": "code",
   "execution_count": 46,
   "id": "e6519c52",
   "metadata": {},
   "outputs": [],
   "source": [
    "y_pred = regr.predict(x)"
   ]
  },
  {
   "cell_type": "code",
   "execution_count": 47,
   "id": "dc3fcdf2",
   "metadata": {},
   "outputs": [
    {
     "data": {
      "text/plain": [
       "0.5783426146065824"
      ]
     },
     "execution_count": 47,
     "metadata": {},
     "output_type": "execute_result"
    }
   ],
   "source": [
    "# Skor akurasi model sebesar 57,83% berdasarkan Multiple Regression yang sudah dilakukan\n",
    "regr.score(x,y)"
   ]
  },
  {
   "cell_type": "code",
   "execution_count": 48,
   "id": "40f2b5b8",
   "metadata": {},
   "outputs": [
    {
     "data": {
      "text/plain": [
       "array([[1345.31905335]])"
      ]
     },
     "execution_count": 48,
     "metadata": {},
     "output_type": "execute_result"
    }
   ],
   "source": [
    "# Prediksi harga rumah impian Beverly\n",
    "regr.predict([[1800,4,2,10]])"
   ]
  },
  {
   "cell_type": "markdown",
   "id": "d4739561",
   "metadata": {},
   "source": [
    "Berdasarkan hasil Multiple Regression Model tersebut, dapat diketahui bahwa harga rumah impian Beverly adalah sekita 1345.32 US$."
   ]
  },
  {
   "cell_type": "markdown",
   "id": "175c2956",
   "metadata": {},
   "source": [
    "### Random Forest Regression"
   ]
  },
  {
   "cell_type": "code",
   "execution_count": 67,
   "id": "26d36c2e",
   "metadata": {},
   "outputs": [],
   "source": [
    "X = HP[['SquareFeet', 'Bedrooms', 'Bathrooms','Age']]\n",
    "y = HP['Price']"
   ]
  },
  {
   "cell_type": "code",
   "execution_count": 68,
   "id": "f803c857",
   "metadata": {},
   "outputs": [],
   "source": [
    "# Membagi data train (80%) dan data test (20%)\n",
    "from sklearn.model_selection import train_test_split\n",
    "X_train, X_test, y_train, y_test = train_test_split(X, y, train_size = 0.8)"
   ]
  },
  {
   "cell_type": "code",
   "execution_count": 69,
   "id": "0db9832c",
   "metadata": {},
   "outputs": [
    {
     "name": "stdout",
     "output_type": "stream",
     "text": [
      "Feature Importances:  [0.76191839 0.03164608 0.03699445 0.16944108]\n"
     ]
    }
   ],
   "source": [
    "from sklearn.ensemble import RandomForestRegressor\n",
    "regressor = RandomForestRegressor()\n",
    "regressor.fit(X_train, y_train)\n",
    "\n",
    "# Feature Importances menunjukkan seberapa penting nilai setiap kolom dalam mempengaruhi kolom harga\n",
    "print('Feature Importances: ', regressor.feature_importances_)"
   ]
  },
  {
   "cell_type": "markdown",
   "id": "7910f9f3",
   "metadata": {},
   "source": [
    "##### Teknik Evaluasi Algoritma Random Forest Model"
   ]
  },
  {
   "cell_type": "code",
   "execution_count": 70,
   "id": "26d279e3",
   "metadata": {},
   "outputs": [],
   "source": [
    "y_pred = regressor.predict(X_test)"
   ]
  },
  {
   "cell_type": "code",
   "execution_count": 71,
   "id": "936d62dc",
   "metadata": {},
   "outputs": [
    {
     "name": "stdout",
     "output_type": "stream",
     "text": [
      "Residual sum of squares: 0.71\n",
      "R2-score: 0.49\n",
      "Mean absoulute error: 0.57\n"
     ]
    }
   ],
   "source": [
    "#EVALUATION\n",
    "from sklearn.metrics import r2_score, mean_squared_error, mean_absolute_error\n",
    "mse = mean_squared_error (y_test, y_pred)\n",
    "rmse = np.sqrt(mse)\n",
    "mae = mean_absolute_error (y_test, y_pred)\n",
    "r2 = r2_score (y_test, y_pred)\n",
    "print(\"Residual sum of squares: %.2f\" % rmse)\n",
    "print(\"R2-score: %.2f\" % r2)\n",
    "print('Mean absoulute error: %.2f' % mae)"
   ]
  },
  {
   "cell_type": "markdown",
   "id": "f92d49a3",
   "metadata": {},
   "source": [
    "Kesimpulan :\n",
    "1. Nilai MAE yang cenderung lebih tinggi (0.57), berarti model kurang dapat memprediksi harga rumah dengan akurat.\n",
    "2. Nilai RMSE yang sangat tinggi (0.71), berarti model dapat berpotensi membuat kesalahan yang besar.\n",
    "3. Nilai R-squared yang tinggi (0.49), berarti model dapat menjelaskan varians variabel dependen dengan cukup baik.\n",
    "4. Hasil evaluasi, kurang baik karena data dari RMSE dan MAE yang cukup tinggi."
   ]
  },
  {
   "cell_type": "markdown",
   "id": "f3dbff90",
   "metadata": {},
   "source": [
    "##### Uji Coba Prediksi Data Lain :\n",
    "Data :\n",
    "Beverly ingin memprediksi harga rumah impian dengan kriteria berikut :\n",
    "1. SquareFeet = 1800\n",
    "2. Bedrooms = 4\n",
    "3. Bathrooms = 2\n",
    "4. Age = 10\n",
    "\n",
    "Maka, berikut penyelesaiannya"
   ]
  },
  {
   "cell_type": "code",
   "execution_count": 72,
   "id": "9df4f1dd",
   "metadata": {},
   "outputs": [
    {
     "data": {
      "text/plain": [
       "0.4947721999457073"
      ]
     },
     "execution_count": 72,
     "metadata": {},
     "output_type": "execute_result"
    }
   ],
   "source": [
    "# Skor akurasi model sebesar 49.47% berdasarkan Random Forest Regression Model yang sudah dilakukan\n",
    "regressor.score(X_test, y_test)"
   ]
  },
  {
   "cell_type": "code",
   "execution_count": 73,
   "id": "0d5db3f0",
   "metadata": {
    "scrolled": true
   },
   "outputs": [
    {
     "name": "stderr",
     "output_type": "stream",
     "text": [
      "C:\\Users\\cathe\\anaconda3\\Lib\\site-packages\\sklearn\\base.py:464: UserWarning: X does not have valid feature names, but RandomForestRegressor was fitted with feature names\n",
      "  warnings.warn(\n"
     ]
    },
    {
     "data": {
      "text/plain": [
       "array([1.29653768])"
      ]
     },
     "execution_count": 73,
     "metadata": {},
     "output_type": "execute_result"
    }
   ],
   "source": [
    "# Prediksi harga rumah impian Beverly\n",
    "regressor.predict([[1800,4,2,10]])"
   ]
  },
  {
   "cell_type": "markdown",
   "id": "a47c0b7c",
   "metadata": {},
   "source": [
    "Berdasarkan hasil Random Forest Regression Model tersebut, dapat diketahui bahwa harga rumah impian Beverly adalah sekitar 1.29 US$."
   ]
  },
  {
   "cell_type": "markdown",
   "id": "d2127cb0",
   "metadata": {},
   "source": [
    "----"
   ]
  },
  {
   "cell_type": "markdown",
   "id": "69b7f628",
   "metadata": {},
   "source": [
    "## <div align=\"center\"> Conclusion </div>"
   ]
  },
  {
   "cell_type": "markdown",
   "id": "8240434c",
   "metadata": {},
   "source": [
    "##### Kesimpulan Kelompok :\n",
    "Berdasarkan nilai MAE, RMSE, dan Rsquared pada kedua evaluasi yang telah dilakukan, terdapat perbedaan nilai RMSE dan Rsquares antara kedua model tersebut. Nilai RMSE Multiple Regression yaitu 0.42 lebih rendah daripada nilai RMSE Simple Regression yaitu 0.43. Sedangkan, nilai R-squared Multiple Regression yaitu 0.58 lebih tinggi daripada nilai R-square Simple Regression yaitu 0.57. Selain itu, persamaan nilai MAE yaitu sebesar 0.52 menunjukkan bahwa kedua model tersebut dapat memprediksi harga rumah dengan sama akuratnya. Pada sisi lain, berdasarkan skor akurasi masing-masing model, Multiple Regression model lebih akurat yaitu sebesar 57.83% daripada Simple Regression Model yang sebesar 56.11%.\n",
    "\n",
    "##### Kesimpulan Individu :\n",
    "Berdasarkan nilai MAE, RMSE, dan Rsquared pada ketiga evaluasi yang telah dilakukan, model yang paling baik digunakan untuk memprediksi rumah dari data ini adalah model Multiple Regression. Selain itu, keputusan model yang lebih baik digunakan juga didukung oleh hasil keakuratan regresi tiap model. Multiple Regression model lebih akurat dengan hasil sebesar 57.83% daripada Simple Regression Model yang sebesar 56.11% dan Random Forest Regression yang sebesar 49.47%."
   ]
  },
  {
   "cell_type": "markdown",
   "id": "b765bf3f",
   "metadata": {},
   "source": [
    "----"
   ]
  }
 ],
 "metadata": {
  "kernelspec": {
   "display_name": "Python 3 (ipykernel)",
   "language": "python",
   "name": "python3"
  },
  "language_info": {
   "codemirror_mode": {
    "name": "ipython",
    "version": 3
   },
   "file_extension": ".py",
   "mimetype": "text/x-python",
   "name": "python",
   "nbconvert_exporter": "python",
   "pygments_lexer": "ipython3",
   "version": "3.11.4"
  }
 },
 "nbformat": 4,
 "nbformat_minor": 5
}
